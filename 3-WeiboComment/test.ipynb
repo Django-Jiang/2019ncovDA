{
 "nbformat": 4,
 "nbformat_minor": 2,
 "metadata": {
  "language_info": {
   "name": "python",
   "codemirror_mode": {
    "name": "ipython",
    "version": 3
   },
   "version": "3.7.4-final"
  },
  "orig_nbformat": 2,
  "file_extension": ".py",
  "mimetype": "text/x-python",
  "name": "python",
  "npconvert_exporter": "python",
  "pygments_lexer": "ipython3",
  "version": 3,
  "kernelspec": {
   "name": "python37464bitbaseconda1cd2d0d6e41a416eb3bb8aebfedc92b4",
   "display_name": "Python 3.7.4 64-bit ('base': conda)"
  }
 },
 "cells": [
  {
   "cell_type": "code",
   "execution_count": null,
   "metadata": {},
   "outputs": [],
   "source": [
    "import time\n",
    "import base64\n",
    "import rsa\n",
    "import binascii\n",
    "import requests\n",
    "import re\n",
    "from PIL import Image\n",
    "import random\n",
    "from urllib.parse import quote_plus\n",
    "import http.cookiejar as cookielib\n",
    "import json\n",
    "import pandas as pd"
   ]
  },
  {
   "cell_type": "code",
   "execution_count": null,
   "metadata": {},
   "outputs": [],
   "source": [
    "headers = {  \n",
    "    \"Cookies\": '',  \n",
    "    \"User-Agent\":'Mozilla/5.0 (Windows NT 10.0; Win64; x64) AppleWebKit/537.36 (KHTML, like Gecko) Chrome/66.0.3359.139 Safari/537.36'  \n",
    "}"
   ]
  },
  {
   "cell_type": "code",
   "execution_count": null,
   "metadata": {},
   "outputs": [],
   "source": [
    "max_id = \"\"\n",
    "headers = {\"user-agent\": \"mozilla/5.0 (windowS NT 10.0; win64; x64) appLewEbkit/537.36 (KHTML, likE gecko) chrome/71.0.3578.98 safari/537.36\",\n",
    "\"Cookies\": ''}\n",
    "#加载cookie\n",
    "#cookies = cookielib.LWPCookieJar(\"Cookie.txt\")\n",
    "#cookies.load(ignore_discard=True, ignore_expires=True)\n",
    "# 将cookie转换成字典\n",
    "#cookie_dict = requests.utils.dict_from_cookiejar(cookies)\n",
    "\n",
    "line = pd.DataFrame()\n",
    "\n",
    "while True:\n",
    "    if max_id == \"\":\n",
    "        url = \"https://m.weibo.cn/comments/hotflow?id=4469794973353245&mid=4469794973353245&max_id_type=0\"\n",
    "    else:\n",
    "        url = \"https://m.weibo.cn/comments/hotflow?id=4469794973353245&mid=4469794973353245&max_id=\"+str(max_id)+\"&max_id_type=0\"\n",
    "    # print(url)\n",
    "    #response = requests.get(url, headers=headers, cookies=cookie_dict)\n",
    "    response = requests.get(url, headers=headers)\n",
    "    comment = response.json()\n",
    "\n",
    "    if comment['ok'] == 0:\n",
    "        break\n",
    "    max_id = comment[\"data\"][\"max_id\"]\n",
    "\n",
    "    # print([data_1[\"text\"] for data_1 in comment[\"data\"][\"data\"]])\n",
    "    \n",
    "    for comment_data in comment[\"data\"][\"data\"]:\n",
    "        data = comment_data[\"text\"]\n",
    "        p = re.compile(r'(<span.*>.*</span>)*(<a.*>.*</ a>)?')\n",
    "        data = p.sub(r'', data)\n",
    "        if len(data) != 0:\n",
    "            line = line.append([data], ignore_index=1)\n",
    "    time.sleep(1)"
   ]
  },
  {
   "cell_type": "code",
   "execution_count": null,
   "metadata": {},
   "outputs": [],
   "source": [
    "line"
   ]
  },
  {
   "cell_type": "code",
   "execution_count": null,
   "metadata": {},
   "outputs": [],
   "source": []
  }
 ]
}