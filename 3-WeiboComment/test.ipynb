{
 "nbformat": 4,
 "nbformat_minor": 2,
 "metadata": {
  "language_info": {
   "name": "python",
   "codemirror_mode": {
    "name": "ipython",
    "version": 3
   },
   "version": "3.7.4-final"
  },
  "orig_nbformat": 2,
  "file_extension": ".py",
  "mimetype": "text/x-python",
  "name": "python",
  "npconvert_exporter": "python",
  "pygments_lexer": "ipython3",
  "version": 3,
  "kernelspec": {
   "name": "python37464bitbaseconda1cd2d0d6e41a416eb3bb8aebfedc92b4",
   "display_name": "Python 3.7.4 64-bit ('base': conda)"
  }
 },
 "cells": [
  {
   "cell_type": "code",
   "execution_count": 1,
   "metadata": {},
   "outputs": [],
   "source": [
    "import time\n",
    "import base64\n",
    "import rsa\n",
    "import binascii\n",
    "import requests\n",
    "import re\n",
    "from PIL import Image\n",
    "import random\n",
    "from urllib.parse import quote_plus\n",
    "import http.cookiejar as cookielib\n",
    "import json\n",
    "import pandas as pd"
   ]
  },
  {
   "cell_type": "code",
   "execution_count": 2,
   "metadata": {},
   "outputs": [],
   "source": [
    "headers = {  \n",
    "    \"Cookies\": '_T_WM=39110711777; WEIBOCN_FROM=1110006030; SUB=_2A25zOsJmDeRhGeNM7lcY9CvLzDyIHXVQxO4urDV6PUJbktANLUuhkW1NThqmxQpLAXE3zxho_FuQAxjZ-eg97qj4; SUBP=0033WrSXqPxfM725Ws9jqgMF55529P9D9WhvkB3ZxowwmNcfv4HdBSpH5JpX5KzhUgL.Fo-ESK-4Sh-NS052dJLoIEXLxKBLBonLBKnLxK.LBKeL12-LxK-L1h-LB-eLxK-LB-BL1K5LxKBLBonLBKnt; SUHB=0RyqURteUcBIHB; SSOLoginState=1581167158; MLOGIN=1; XSRF-TOKEN=c4b391; M_WEIBOCN_PARAMS=luicode%3D10000011%26lfid%3D1076032803301701%26uicode%3D20000061%26fid%3D4469794973353245%26oid%3D4469794973353245',  \n",
    "    \"User-Agent\":'Mozilla/5.0 (Windows NT 10.0; Win64; x64) AppleWebKit/537.36 (KHTML, like Gecko) Chrome/66.0.3359.139 Safari/537.36'  \n",
    "}"
   ]
  },
  {
   "cell_type": "code",
   "execution_count": 4,
   "metadata": {},
   "outputs": [
    {
     "ename": "JSONDecodeError",
     "evalue": "Expecting value: line 1 column 1 (char 0)",
     "output_type": "error",
     "traceback": [
      "\u001b[0;31m---------------------------------------------------------------------------\u001b[0m",
      "\u001b[0;31mJSONDecodeError\u001b[0m                           Traceback (most recent call last)",
      "\u001b[0;32m<ipython-input-4-77b6b241bb6a>\u001b[0m in \u001b[0;36m<module>\u001b[0;34m\u001b[0m\n\u001b[1;32m     18\u001b[0m     \u001b[0;31m#response = requests.get(url, headers=headers, cookies=cookie_dict)\u001b[0m\u001b[0;34m\u001b[0m\u001b[0;34m\u001b[0m\u001b[0;34m\u001b[0m\u001b[0m\n\u001b[1;32m     19\u001b[0m     \u001b[0mresponse\u001b[0m \u001b[0;34m=\u001b[0m \u001b[0mrequests\u001b[0m\u001b[0;34m.\u001b[0m\u001b[0mget\u001b[0m\u001b[0;34m(\u001b[0m\u001b[0murl\u001b[0m\u001b[0;34m,\u001b[0m \u001b[0mheaders\u001b[0m\u001b[0;34m=\u001b[0m\u001b[0mheaders\u001b[0m\u001b[0;34m)\u001b[0m\u001b[0;34m\u001b[0m\u001b[0;34m\u001b[0m\u001b[0m\n\u001b[0;32m---> 20\u001b[0;31m     \u001b[0mcomment\u001b[0m \u001b[0;34m=\u001b[0m \u001b[0mresponse\u001b[0m\u001b[0;34m.\u001b[0m\u001b[0mjson\u001b[0m\u001b[0;34m(\u001b[0m\u001b[0;34m)\u001b[0m\u001b[0;34m\u001b[0m\u001b[0;34m\u001b[0m\u001b[0m\n\u001b[0m\u001b[1;32m     21\u001b[0m \u001b[0;34m\u001b[0m\u001b[0m\n\u001b[1;32m     22\u001b[0m     \u001b[0;32mif\u001b[0m \u001b[0mcomment\u001b[0m\u001b[0;34m[\u001b[0m\u001b[0;34m'ok'\u001b[0m\u001b[0;34m]\u001b[0m \u001b[0;34m==\u001b[0m \u001b[0;36m0\u001b[0m\u001b[0;34m:\u001b[0m\u001b[0;34m\u001b[0m\u001b[0;34m\u001b[0m\u001b[0m\n",
      "\u001b[0;32m/opt/anaconda3/lib/python3.7/site-packages/requests/models.py\u001b[0m in \u001b[0;36mjson\u001b[0;34m(self, **kwargs)\u001b[0m\n\u001b[1;32m    895\u001b[0m                     \u001b[0;31m# used.\u001b[0m\u001b[0;34m\u001b[0m\u001b[0;34m\u001b[0m\u001b[0;34m\u001b[0m\u001b[0m\n\u001b[1;32m    896\u001b[0m                     \u001b[0;32mpass\u001b[0m\u001b[0;34m\u001b[0m\u001b[0;34m\u001b[0m\u001b[0m\n\u001b[0;32m--> 897\u001b[0;31m         \u001b[0;32mreturn\u001b[0m \u001b[0mcomplexjson\u001b[0m\u001b[0;34m.\u001b[0m\u001b[0mloads\u001b[0m\u001b[0;34m(\u001b[0m\u001b[0mself\u001b[0m\u001b[0;34m.\u001b[0m\u001b[0mtext\u001b[0m\u001b[0;34m,\u001b[0m \u001b[0;34m**\u001b[0m\u001b[0mkwargs\u001b[0m\u001b[0;34m)\u001b[0m\u001b[0;34m\u001b[0m\u001b[0;34m\u001b[0m\u001b[0m\n\u001b[0m\u001b[1;32m    898\u001b[0m \u001b[0;34m\u001b[0m\u001b[0m\n\u001b[1;32m    899\u001b[0m     \u001b[0;34m@\u001b[0m\u001b[0mproperty\u001b[0m\u001b[0;34m\u001b[0m\u001b[0;34m\u001b[0m\u001b[0m\n",
      "\u001b[0;32m/opt/anaconda3/lib/python3.7/json/__init__.py\u001b[0m in \u001b[0;36mloads\u001b[0;34m(s, encoding, cls, object_hook, parse_float, parse_int, parse_constant, object_pairs_hook, **kw)\u001b[0m\n\u001b[1;32m    346\u001b[0m             \u001b[0mparse_int\u001b[0m \u001b[0;32mis\u001b[0m \u001b[0;32mNone\u001b[0m \u001b[0;32mand\u001b[0m \u001b[0mparse_float\u001b[0m \u001b[0;32mis\u001b[0m \u001b[0;32mNone\u001b[0m \u001b[0;32mand\u001b[0m\u001b[0;34m\u001b[0m\u001b[0;34m\u001b[0m\u001b[0m\n\u001b[1;32m    347\u001b[0m             parse_constant is None and object_pairs_hook is None and not kw):\n\u001b[0;32m--> 348\u001b[0;31m         \u001b[0;32mreturn\u001b[0m \u001b[0m_default_decoder\u001b[0m\u001b[0;34m.\u001b[0m\u001b[0mdecode\u001b[0m\u001b[0;34m(\u001b[0m\u001b[0ms\u001b[0m\u001b[0;34m)\u001b[0m\u001b[0;34m\u001b[0m\u001b[0;34m\u001b[0m\u001b[0m\n\u001b[0m\u001b[1;32m    349\u001b[0m     \u001b[0;32mif\u001b[0m \u001b[0mcls\u001b[0m \u001b[0;32mis\u001b[0m \u001b[0;32mNone\u001b[0m\u001b[0;34m:\u001b[0m\u001b[0;34m\u001b[0m\u001b[0;34m\u001b[0m\u001b[0m\n\u001b[1;32m    350\u001b[0m         \u001b[0mcls\u001b[0m \u001b[0;34m=\u001b[0m \u001b[0mJSONDecoder\u001b[0m\u001b[0;34m\u001b[0m\u001b[0;34m\u001b[0m\u001b[0m\n",
      "\u001b[0;32m/opt/anaconda3/lib/python3.7/json/decoder.py\u001b[0m in \u001b[0;36mdecode\u001b[0;34m(self, s, _w)\u001b[0m\n\u001b[1;32m    335\u001b[0m \u001b[0;34m\u001b[0m\u001b[0m\n\u001b[1;32m    336\u001b[0m         \"\"\"\n\u001b[0;32m--> 337\u001b[0;31m         \u001b[0mobj\u001b[0m\u001b[0;34m,\u001b[0m \u001b[0mend\u001b[0m \u001b[0;34m=\u001b[0m \u001b[0mself\u001b[0m\u001b[0;34m.\u001b[0m\u001b[0mraw_decode\u001b[0m\u001b[0;34m(\u001b[0m\u001b[0ms\u001b[0m\u001b[0;34m,\u001b[0m \u001b[0midx\u001b[0m\u001b[0;34m=\u001b[0m\u001b[0m_w\u001b[0m\u001b[0;34m(\u001b[0m\u001b[0ms\u001b[0m\u001b[0;34m,\u001b[0m \u001b[0;36m0\u001b[0m\u001b[0;34m)\u001b[0m\u001b[0;34m.\u001b[0m\u001b[0mend\u001b[0m\u001b[0;34m(\u001b[0m\u001b[0;34m)\u001b[0m\u001b[0;34m)\u001b[0m\u001b[0;34m\u001b[0m\u001b[0;34m\u001b[0m\u001b[0m\n\u001b[0m\u001b[1;32m    338\u001b[0m         \u001b[0mend\u001b[0m \u001b[0;34m=\u001b[0m \u001b[0m_w\u001b[0m\u001b[0;34m(\u001b[0m\u001b[0ms\u001b[0m\u001b[0;34m,\u001b[0m \u001b[0mend\u001b[0m\u001b[0;34m)\u001b[0m\u001b[0;34m.\u001b[0m\u001b[0mend\u001b[0m\u001b[0;34m(\u001b[0m\u001b[0;34m)\u001b[0m\u001b[0;34m\u001b[0m\u001b[0;34m\u001b[0m\u001b[0m\n\u001b[1;32m    339\u001b[0m         \u001b[0;32mif\u001b[0m \u001b[0mend\u001b[0m \u001b[0;34m!=\u001b[0m \u001b[0mlen\u001b[0m\u001b[0;34m(\u001b[0m\u001b[0ms\u001b[0m\u001b[0;34m)\u001b[0m\u001b[0;34m:\u001b[0m\u001b[0;34m\u001b[0m\u001b[0;34m\u001b[0m\u001b[0m\n",
      "\u001b[0;32m/opt/anaconda3/lib/python3.7/json/decoder.py\u001b[0m in \u001b[0;36mraw_decode\u001b[0;34m(self, s, idx)\u001b[0m\n\u001b[1;32m    353\u001b[0m             \u001b[0mobj\u001b[0m\u001b[0;34m,\u001b[0m \u001b[0mend\u001b[0m \u001b[0;34m=\u001b[0m \u001b[0mself\u001b[0m\u001b[0;34m.\u001b[0m\u001b[0mscan_once\u001b[0m\u001b[0;34m(\u001b[0m\u001b[0ms\u001b[0m\u001b[0;34m,\u001b[0m \u001b[0midx\u001b[0m\u001b[0;34m)\u001b[0m\u001b[0;34m\u001b[0m\u001b[0;34m\u001b[0m\u001b[0m\n\u001b[1;32m    354\u001b[0m         \u001b[0;32mexcept\u001b[0m \u001b[0mStopIteration\u001b[0m \u001b[0;32mas\u001b[0m \u001b[0merr\u001b[0m\u001b[0;34m:\u001b[0m\u001b[0;34m\u001b[0m\u001b[0;34m\u001b[0m\u001b[0m\n\u001b[0;32m--> 355\u001b[0;31m             \u001b[0;32mraise\u001b[0m \u001b[0mJSONDecodeError\u001b[0m\u001b[0;34m(\u001b[0m\u001b[0;34m\"Expecting value\"\u001b[0m\u001b[0;34m,\u001b[0m \u001b[0ms\u001b[0m\u001b[0;34m,\u001b[0m \u001b[0merr\u001b[0m\u001b[0;34m.\u001b[0m\u001b[0mvalue\u001b[0m\u001b[0;34m)\u001b[0m \u001b[0;32mfrom\u001b[0m \u001b[0;32mNone\u001b[0m\u001b[0;34m\u001b[0m\u001b[0;34m\u001b[0m\u001b[0m\n\u001b[0m\u001b[1;32m    356\u001b[0m         \u001b[0;32mreturn\u001b[0m \u001b[0mobj\u001b[0m\u001b[0;34m,\u001b[0m \u001b[0mend\u001b[0m\u001b[0;34m\u001b[0m\u001b[0;34m\u001b[0m\u001b[0m\n",
      "\u001b[0;31mJSONDecodeError\u001b[0m: Expecting value: line 1 column 1 (char 0)"
     ]
    }
   ],
   "source": [
    "max_id = \"\"\n",
    "headers = {\"user-agent\": \"mozilla/5.0 (windowS NT 10.0; win64; x64) appLewEbkit/537.36 (KHTML, likE gecko) chrome/71.0.3578.98 safari/537.36\",\n",
    "\"Cookies\": '_T_WM=39110711777; WEIBOCN_FROM=1110006030; SUB=_2A25zOsJmDeRhGeNM7lcY9CvLzDyIHXVQxO4urDV6PUJbktANLUuhkW1NThqmxQpLAXE3zxho_FuQAxjZ-eg97qj4; SUBP=0033WrSXqPxfM725Ws9jqgMF55529P9D9WhvkB3ZxowwmNcfv4HdBSpH5JpX5KzhUgL.Fo-ESK-4Sh-NS052dJLoIEXLxKBLBonLBKnLxK.LBKeL12-LxK-L1h-LB-eLxK-LB-BL1K5LxKBLBonLBKnt; SUHB=0RyqURteUcBIHB; SSOLoginState=1581167158; MLOGIN=1; XSRF-TOKEN=c4b391; M_WEIBOCN_PARAMS=luicode%3D10000011%26lfid%3D1076032803301701%26uicode%3D20000061%26fid%3D4469794973353245%26oid%3D4469794973353245'}\n",
    "#加载cookie\n",
    "#cookies = cookielib.LWPCookieJar(\"Cookie.txt\")\n",
    "#cookies.load(ignore_discard=True, ignore_expires=True)\n",
    "# 将cookie转换成字典\n",
    "#cookie_dict = requests.utils.dict_from_cookiejar(cookies)\n",
    "\n",
    "line = pd.DataFrame()\n",
    "\n",
    "while True:\n",
    "    if max_id == \"\":\n",
    "        url = \"https://m.weibo.cn/comments/hotflow?id=4469794973353245&mid=4469794973353245&max_id_type=0\"\n",
    "    else:\n",
    "        url = \"https://m.weibo.cn/comments/hotflow?id=4469794973353245&mid=4469794973353245&max_id=\"+str(max_id)+\"&max_id_type=0\"\n",
    "    # print(url)\n",
    "    #response = requests.get(url, headers=headers, cookies=cookie_dict)\n",
    "    response = requests.get(url, headers=headers)\n",
    "    comment = response.json()\n",
    "\n",
    "    if comment['ok'] == 0:\n",
    "        break\n",
    "    max_id = comment[\"data\"][\"max_id\"]\n",
    "\n",
    "    # print([data_1[\"text\"] for data_1 in comment[\"data\"][\"data\"]])\n",
    "    \n",
    "    for comment_data in comment[\"data\"][\"data\"]:\n",
    "        data = comment_data[\"text\"]\n",
    "        p = re.compile(r'(<span.*>.*</span>)*(<a.*>.*</ a>)?')\n",
    "        data = p.sub(r'', data)\n",
    "        if len(data) != 0:\n",
    "            line = line.append([data], ignore_index=1)\n",
    "    time.sleep(1)"
   ]
  },
  {
   "cell_type": "code",
   "execution_count": 4,
   "metadata": {},
   "outputs": [
    {
     "data": {
      "text/html": "<div>\n<style scoped>\n    .dataframe tbody tr th:only-of-type {\n        vertical-align: middle;\n    }\n\n    .dataframe tbody tr th {\n        vertical-align: top;\n    }\n\n    .dataframe thead th {\n        text-align: right;\n    }\n</style>\n<table border=\"1\" class=\"dataframe\">\n  <thead>\n    <tr style=\"text-align: right;\">\n      <th></th>\n      <th>0</th>\n    </tr>\n  </thead>\n  <tbody>\n    <tr>\n      <td>0</td>\n      <td>热衷刷标语 喊口号不是你们人民日报吗</td>\n    </tr>\n    <tr>\n      <td>1</td>\n      <td>严惩官僚主义</td>\n    </tr>\n    <tr>\n      <td>2</td>\n      <td>那个驴唇不对马嘴的王晓东打算咋办，我比较好奇</td>\n    </tr>\n    <tr>\n      <td>3</td>\n      <td>中央的政策是真好，中国的百姓是真朴实，地方的狗官是真多</td>\n    </tr>\n    <tr>\n      <td>4</td>\n      <td>很棒 还是相信中央</td>\n    </tr>\n    <tr>\n      <td>...</td>\n      <td>...</td>\n    </tr>\n    <tr>\n      <td>308</td>\n      <td>正人先正己！</td>\n    </tr>\n    <tr>\n      <td>309</td>\n      <td>中央的政策是真好，中国的百姓是真朴实，地方的狗官是真多</td>\n    </tr>\n    <tr>\n      <td>310</td>\n      <td>湖北省省长数学没有学好</td>\n    </tr>\n    <tr>\n      <td>311</td>\n      <td>提醒在此补充上） 1分20秒小纸条，“口误，刚才这个口罩的生产数值啊，有点出入，不是108亿...</td>\n    </tr>\n    <tr>\n      <td>312</td>\n      <td>湖北省长说口罩生产了108亿个然后隔 壁递了个小纸条省长改口口误不是108亿是18亿， 有点...</td>\n    </tr>\n  </tbody>\n</table>\n<p>313 rows × 1 columns</p>\n</div>",
      "text/plain": "                                                     0\n0                                   热衷刷标语 喊口号不是你们人民日报吗\n1                                               严惩官僚主义\n2                               那个驴唇不对马嘴的王晓东打算咋办，我比较好奇\n3                          中央的政策是真好，中国的百姓是真朴实，地方的狗官是真多\n4                                            很棒 还是相信中央\n..                                                 ...\n308                                             正人先正己！\n309                        中央的政策是真好，中国的百姓是真朴实，地方的狗官是真多\n310                                        湖北省省长数学没有学好\n311  提醒在此补充上） 1分20秒小纸条，“口误，刚才这个口罩的生产数值啊，有点出入，不是108亿...\n312  湖北省长说口罩生产了108亿个然后隔 壁递了个小纸条省长改口口误不是108亿是18亿， 有点...\n\n[313 rows x 1 columns]"
     },
     "execution_count": 4,
     "metadata": {},
     "output_type": "execute_result"
    }
   ],
   "source": [
    "line"
   ]
  },
  {
   "cell_type": "code",
   "execution_count": null,
   "metadata": {},
   "outputs": [],
   "source": []
  }
 ]
}