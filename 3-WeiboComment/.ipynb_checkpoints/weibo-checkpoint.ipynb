{
 "cells": [
  {
   "cell_type": "code",
   "execution_count": null,
   "metadata": {},
   "outputs": [],
   "source": [
    "import requests\n",
    "import re\n",
    "import time"
   ]
  },
  {
   "cell_type": "code",
   "execution_count": null,
   "metadata": {},
   "outputs": [],
   "source": [
    "def get_one_page(url):#请求函数：获取某一网页上的所有内容\n",
    "    headers = {\n",
    "    'User-agent' : 'your User-agent',\n",
    "    'Host' : 'weibo.cn',\n",
    "    'Accept' : 'application/json, text/plain, */*',\n",
    "    'Accept-Language' : 'zh-CN,zh;q=0.9',\n",
    "    'Accept-Encoding' : 'gzip, deflate, br',\n",
    "    'Cookie' : 'your Cookie!!!!',\n",
    "    'DNT' : '1',\n",
    "    'Connection' : 'keep-alive'\n",
    "     }#请求头的书写，包括User-agent,Cookie等\n",
    "    response = requests.get(url,headers = headers,verify=False)#利用requests.get命令获取网页html\n",
    "    if response.status_code == 200:#状态为200即为爬取成功\n",
    "        return response.text#返回值为html文档，传入到解析函数当中\n",
    "    return None\n",
    "def parse_one_page(html):#解析html并存入到文档result.txt中\n",
    "    pattern = re.compile('<span class=\"ctt\">.*?</span>', re.S)\n",
    "    items = re.findall(pattern,html)\n",
    "    result = str(items)\n",
    "    with open('test.txt','a',encoding='utf-8') as fp:\n",
    "        fp.write(result)\n"
   ]
  },
  {
   "cell_type": "code",
   "execution_count": null,
   "metadata": {},
   "outputs": [],
   "source": [
    "cookie: _T_WM=39110711777; WEIBOCN_FROM=1110006030; MLOGIN=0; XSRF-TOKEN=492ac8; M_WEIBOCN_PARAMS=luicode%3D10000011%26lfid%3D231583%26uicode%3D10000011%26fid%3D102803"
   ]
  },
  {
   "cell_type": "code",
   "execution_count": null,
   "metadata": {},
   "outputs": [],
   "source": [
    "# -*- coding:utf-8 -*-\n",
    " \n",
    "import requests\n",
    "import re\n",
    "import time\n",
    "import pandas as pd\n",
    " \n",
    "# 把id替换成你想爬的地址id\n",
    "urls = 'https://m.weibo.cn/api/comments/show?id=4073157046629802&page={}'\n",
    " \n",
    "headers = {'Cookies':'Your cookies',\n",
    "          'User-Agent':'Mozilla/5.0 (Linux; Android 6.0; Nexus 5 Build/MRA58N) AppleWebKit/537.36 (KHTML, like Gecko) Chrome/80.0.3987.87 Mobile Safari/537.36'}\n",
    "# 找到html标签\n",
    "tags = re.compile('</?\\w+[^>]*>')\n",
    " \n",
    "# 设置提取评论function\n",
    "def get_comment(url):\n",
    "    j = requests.get(url, headers=headers).json()\n",
    "    comment_data = j['data']['data']\n",
    "    for data in comment_data:\n",
    "        try:\n",
    "            comment = tags.sub('', data['text']) # 去掉html标签\n",
    "            reply = tags.sub('', data['reply_text'])\n",
    "            weibo_id = data['id']\n",
    "            reply_id = data['reply_id']\n",
    " \n",
    "            comments.append(comment)\n",
    "            comments.append(reply)\n",
    "            ids.append(weibo_id)\n",
    "            ids.append(reply_id)\n",
    " \n",
    "        except KeyError:\n",
    "            pass\n",
    " \n",
    " \n",
    "comments, ids = [], []\n",
    "url = urls.format(str(1))\n",
    "get_comment(url)\n",
    "\n",
    " \n",
    "\n"
   ]
  },
  {
   "cell_type": "code",
   "execution_count": 1,
   "metadata": {},
   "outputs": [],
   "source": [
    "import requests\n",
    "import json  \n",
    "import pymongo  \n",
    "import re"
   ]
  },
  {
   "cell_type": "code",
   "execution_count": 2,
   "metadata": {},
   "outputs": [],
   "source": [
    "client = pymongo.MongoClient('localhost', 27017)  \n",
    "weibo = client['weibo']\n",
    "comment_ = weibo['comment_fangwens']"
   ]
  },
  {
   "cell_type": "code",
   "execution_count": 3,
   "metadata": {},
   "outputs": [],
   "source": [
    "headers = {  \n",
    "    \"Cookies\": '_T_WM=39110711777; WEIBOCN_FROM=1110006030; SUB=_2A25zOsJmDeRhGeNM7lcY9CvLzDyIHXVQxO4urDV6PUJbktANLUuhkW1NThqmxQpLAXE3zxho_FuQAxjZ-eg97qj4; SUBP=0033WrSXqPxfM725Ws9jqgMF55529P9D9WhvkB3ZxowwmNcfv4HdBSpH5JpX5KzhUgL.Fo-ESK-4Sh-NS052dJLoIEXLxKBLBonLBKnLxK.LBKeL12-LxK-L1h-LB-eLxK-LB-BL1K5LxKBLBonLBKnt; SUHB=0RyqURteUcBIHB; SSOLoginState=1581167158; MLOGIN=1; XSRF-TOKEN=c4b391; M_WEIBOCN_PARAMS=luicode%3D10000011%26lfid%3D1076032803301701%26uicode%3D20000061%26fid%3D4469794973353245%26oid%3D4469794973353245',  \n",
    "    \"User-Agent\":'Mozilla/5.0 (Windows NT 10.0; Win64; x64) AppleWebKit/537.36 (KHTML, like Gecko) Chrome/66.0.3359.139 Safari/537.36'  \n",
    "}\n"
   ]
  },
  {
   "cell_type": "code",
   "execution_count": 4,
   "metadata": {},
   "outputs": [
    {
     "name": "stdout",
     "output_type": "stream",
     "text": [
      "回复@朱朱朱Olivia:都上头条了，什么时候让我上一下\n",
      "回复@陈独秀的星期天:图片评论\n",
      "回复@朱朱朱Olivia:好吧，如果你觉得这样调侃杰伦自己舒服了的话那就随你咯，我觉得歌词也没什么的啊，不必要大惊小怪\n",
      "回复@LeslieSweet:哈哈哈哈\n",
      "回复@诸葛管仲:都过了两天了，你居然还能发现这条评论！\n",
      "@茠草 评论\n",
      "文山呀  你快出山啊  别睡觉了  周董押韵不好呀  太了草了啊\n",
      "文山爱你\n",
      "回复@朱朱朱Olivia:都上头条了，什么时候让我上一下\n",
      "回复@陈独秀的星期天:图片评论\n",
      "回复@朱朱朱Olivia:好吧，如果你觉得这样调侃杰伦自己舒服了的话那就随你咯，我觉得歌词也没什么的啊，不必要大惊小怪\n",
      "回复@LeslieSweet:哈哈哈哈\n",
      "回复@诸葛管仲:都过了两天了，你居然还能发现这条评论！\n",
      "@茠草 评论\n",
      "文山呀  你快出山啊  别睡觉了  周董押韵不好呀  太了草了啊\n",
      "文山爱你\n"
     ]
    },
    {
     "ename": "KeyError",
     "evalue": "'data'",
     "output_type": "error",
     "traceback": [
      "\u001b[0;31m---------------------------------------------------------------------------\u001b[0m",
      "\u001b[0;31mKeyError\u001b[0m                                  Traceback (most recent call last)",
      "\u001b[0;32m<ipython-input-4-208cb03d8adc>\u001b[0m in \u001b[0;36m<module>\u001b[0;34m\u001b[0m\n\u001b[1;32m      3\u001b[0m     \u001b[0mwb_data\u001b[0m \u001b[0;34m=\u001b[0m \u001b[0mrequests\u001b[0m\u001b[0;34m.\u001b[0m\u001b[0mget\u001b[0m\u001b[0;34m(\u001b[0m\u001b[0murl_comment\u001b[0m\u001b[0;34m,\u001b[0m\u001b[0mheaders\u001b[0m\u001b[0;34m=\u001b[0m\u001b[0mheaders\u001b[0m\u001b[0;34m)\u001b[0m\u001b[0;34m.\u001b[0m\u001b[0mtext\u001b[0m\u001b[0;34m\u001b[0m\u001b[0;34m\u001b[0m\u001b[0m\n\u001b[1;32m      4\u001b[0m     \u001b[0mdata_comment\u001b[0m \u001b[0;34m=\u001b[0m \u001b[0mjson\u001b[0m\u001b[0;34m.\u001b[0m\u001b[0mloads\u001b[0m\u001b[0;34m(\u001b[0m\u001b[0mwb_data\u001b[0m\u001b[0;34m)\u001b[0m\u001b[0;34m\u001b[0m\u001b[0;34m\u001b[0m\u001b[0m\n\u001b[0;32m----> 5\u001b[0;31m     \u001b[0mdata\u001b[0m \u001b[0;34m=\u001b[0m \u001b[0mdata_comment\u001b[0m\u001b[0;34m[\u001b[0m\u001b[0;34m'data'\u001b[0m\u001b[0;34m]\u001b[0m\u001b[0;34m\u001b[0m\u001b[0;34m\u001b[0m\u001b[0m\n\u001b[0m\u001b[1;32m      6\u001b[0m     \u001b[0;32mfor\u001b[0m \u001b[0ma\u001b[0m \u001b[0;32min\u001b[0m \u001b[0mdata\u001b[0m\u001b[0;34m[\u001b[0m\u001b[0;34m'data'\u001b[0m\u001b[0;34m]\u001b[0m\u001b[0;34m:\u001b[0m\u001b[0;34m\u001b[0m\u001b[0;34m\u001b[0m\u001b[0m\n\u001b[1;32m      7\u001b[0m         \u001b[0mprint\u001b[0m \u001b[0;34m(\u001b[0m\u001b[0mre\u001b[0m\u001b[0;34m.\u001b[0m\u001b[0msub\u001b[0m\u001b[0;34m(\u001b[0m\u001b[0;34m'<[^>]*>'\u001b[0m\u001b[0;34m,\u001b[0m \u001b[0;34m''\u001b[0m\u001b[0;34m,\u001b[0m\u001b[0ma\u001b[0m\u001b[0;34m[\u001b[0m\u001b[0;34m'text'\u001b[0m\u001b[0;34m]\u001b[0m\u001b[0;34m)\u001b[0m\u001b[0;34m)\u001b[0m\u001b[0;34m\u001b[0m\u001b[0;34m\u001b[0m\u001b[0m\n",
      "\u001b[0;31mKeyError\u001b[0m: 'data'"
     ]
    }
   ],
   "source": [
    "for i in range (0,101):\n",
    "    url_comment = 'https://m.weibo.cn/api/comments/show?id=4237925061907207&page=%d'%(i)\n",
    "    wb_data = requests.get(url_comment,headers=headers).text\n",
    "    data_comment = json.loads(wb_data)\n",
    "    data = data_comment['data']\n",
    "    for a in data['data']:\n",
    "        print (re.sub('<[^>]*>', '',a['text']))\n"
   ]
  },
  {
   "cell_type": "code",
   "execution_count": null,
   "metadata": {},
   "outputs": [],
   "source": []
  }
 ],
 "metadata": {
  "kernelspec": {
   "display_name": "Python 3.7.4 64-bit ('base': conda)",
   "language": "python",
   "name": "python37464bitbaseconda1cd2d0d6e41a416eb3bb8aebfedc92b4"
  },
  "language_info": {
   "codemirror_mode": {
    "name": "ipython",
    "version": 3
   },
   "file_extension": ".py",
   "mimetype": "text/x-python",
   "name": "python",
   "nbconvert_exporter": "python",
   "pygments_lexer": "ipython3",
   "version": "3.7.4"
  }
 },
 "nbformat": 4,
 "nbformat_minor": 2
}
