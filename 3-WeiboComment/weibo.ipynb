{
 "cells": [
  {
   "cell_type": "code",
   "execution_count": null,
   "metadata": {},
   "outputs": [],
   "source": [
    "import requests\n",
    "import re\n",
    "import time"
   ]
  },
  {
   "cell_type": "code",
   "execution_count": null,
   "metadata": {},
   "outputs": [],
   "source": [
    "def get_one_page(url):#请求函数：获取某一网页上的所有内容\n",
    "    headers = {\n",
    "    'User-agent' : 'your User-agent',\n",
    "    'Host' : 'weibo.cn',\n",
    "    'Accept' : 'application/json, text/plain, */*',\n",
    "    'Accept-Language' : 'zh-CN,zh;q=0.9',\n",
    "    'Accept-Encoding' : 'gzip, deflate, br',\n",
    "    'Cookie' : 'your Cookie!!!!',\n",
    "    'DNT' : '1',\n",
    "    'Connection' : 'keep-alive'\n",
    "     }#请求头的书写，包括User-agent,Cookie等\n",
    "    response = requests.get(url,headers = headers,verify=False)#利用requests.get命令获取网页html\n",
    "    if response.status_code == 200:#状态为200即为爬取成功\n",
    "        return response.text#返回值为html文档，传入到解析函数当中\n",
    "    return None\n",
    "def parse_one_page(html):#解析html并存入到文档result.txt中\n",
    "    pattern = re.compile('<span class=\"ctt\">.*?</span>', re.S)\n",
    "    items = re.findall(pattern,html)\n",
    "    result = str(items)\n",
    "    with open('test.txt','a',encoding='utf-8') as fp:\n",
    "        fp.write(result)\n"
   ]
  },
  {
   "cell_type": "code",
   "execution_count": null,
   "metadata": {},
   "outputs": [],
   "source": [
    "# -*- coding:utf-8 -*-\n",
    " \n",
    "import requests\n",
    "import re\n",
    "import time\n",
    "import pandas as pd\n",
    " \n",
    "# 把id替换成你想爬的地址id\n",
    "urls = 'https://m.weibo.cn/api/comments/show?id=4073157046629802&page={}'\n",
    " \n",
    "headers = {'Cookies':'Your cookies',\n",
    "          'User-Agent':'Mozilla/5.0 (Linux; Android 6.0; Nexus 5 Build/MRA58N) AppleWebKit/537.36 (KHTML, like Gecko) Chrome/80.0.3987.87 Mobile Safari/537.36'}\n",
    "# 找到html标签\n",
    "tags = re.compile('</?\\w+[^>]*>')\n",
    " \n",
    "# 设置提取评论function\n",
    "def get_comment(url):\n",
    "    j = requests.get(url, headers=headers).json()\n",
    "    comment_data = j['data']['data']\n",
    "    for data in comment_data:\n",
    "        try:\n",
    "            comment = tags.sub('', data['text']) # 去掉html标签\n",
    "            reply = tags.sub('', data['reply_text'])\n",
    "            weibo_id = data['id']\n",
    "            reply_id = data['reply_id']\n",
    " \n",
    "            comments.append(comment)\n",
    "            comments.append(reply)\n",
    "            ids.append(weibo_id)\n",
    "            ids.append(reply_id)\n",
    " \n",
    "        except KeyError:\n",
    "            pass\n",
    " \n",
    " \n",
    "comments, ids = [], []\n",
    "url = urls.format(str(1))\n",
    "get_comment(url)\n",
    "\n",
    " \n",
    "\n"
   ]
  },
  {
   "cell_type": "code",
   "execution_count": 1,
   "metadata": {},
   "outputs": [],
   "source": [
    "import requests\n",
    "import json  \n",
    "import pymongo  \n",
    "import re"
   ]
  },
  {
   "cell_type": "code",
   "execution_count": 2,
   "metadata": {},
   "outputs": [],
   "source": [
    "client = pymongo.MongoClient('localhost', 27017)  \n",
    "weibo = client['weibo']\n",
    "comment_ = weibo['comment_fangwens']"
   ]
  },
  {
   "cell_type": "code",
   "execution_count": 3,
   "metadata": {},
   "outputs": [],
   "source": [
    "headers = {  \n",
    "    \"Cookies\": '_T_WM=39110711777; WEIBOCN_FROM=1110006030; SUB=_2A25zOsJmDeRhGeNM7lcY9CvLzDyIHXVQxO4urDV6PUJbktANLUuhkW1NThqmxQpLAXE3zxho_FuQAxjZ-eg97qj4; SUBP=0033WrSXqPxfM725Ws9jqgMF55529P9D9WhvkB3ZxowwmNcfv4HdBSpH5JpX5KzhUgL.Fo-ESK-4Sh-NS052dJLoIEXLxKBLBonLBKnLxK.LBKeL12-LxK-L1h-LB-eLxK-LB-BL1K5LxKBLBonLBKnt; SUHB=0RyqURteUcBIHB; SSOLoginState=1581167158; MLOGIN=1; XSRF-TOKEN=c4b391; M_WEIBOCN_PARAMS=luicode%3D10000011%26lfid%3D1076032803301701%26uicode%3D20000061%26fid%3D4469794973353245%26oid%3D4469794973353245',  \n",
    "    \"User-Agent\":'Mozilla/5.0 (Windows NT 10.0; Win64; x64) AppleWebKit/537.36 (KHTML, like Gecko) Chrome/66.0.3359.139 Safari/537.36'  \n",
    "}\n"
   ]
  },
  {
   "cell_type": "code",
   "execution_count": 19,
   "metadata": {},
   "outputs": [
    {
     "name": "stdout",
     "output_type": "stream",
     "text": "回复@312国道吴道长:额，大哥，30万，给我马上滚蛋。\n这样的通知理应由省委省政府颁发，纪委可按照要求进行督查，组织部门可对照标准提供选人用人意见，同时，最重要的一点却没有提到：要广泛、公开接受媒体和人民大众的监督！没有最后这一条，发再多文件也没有用！！！\n回复@华莱士拿衣服:嘻嘻狗头保命\n回复@LYNeileen:是啊，现在太乱了，没一个好媒体！一锅粥啊\n回复@Pigskull大师哥:红十字，f4，鄂a不弄清楚，还有公信力吗\n回复@那一场金银珠宝:c位出殡天团\n回复@LYNeileen:手指舞了解一下\n回复@Pigskull大师哥:武汉人，先是武汉人吃野味，后是武汉警察忽视专业医生的判断，三是武汉政府的后知后觉，武汉加油真心说不出口，从所谓的百姓到警察再到政府都烂透了\n回复@咸蛋黄啵啵兔叽包:湖北现在只能中央垂直管理，派驻军队才能救民于水火之中。\n这几句话就很官僚\n最形式主义，最官僚主义的难道不是那F4吗？\n回复@312国道吴道长:额，大哥，30万，给我马上滚蛋。\n这样的通知理应由省委省政府颁发，纪委可按照要求进行督查，组织部门可对照标准提供选人用人意见，同时，最重要的一点却没有提到：要广泛、公开接受媒体和人民大众的监督！没有最后这一条，发再多文件也没有用！！！\n回复@华莱士拿衣服:嘻嘻狗头保命\n回复@LYNeileen:是啊，现在太乱了，没一个好媒体！一锅粥啊\n回复@Pigskull大师哥:红十字，f4，鄂a不弄清楚，还有公信力吗\n回复@那一场金银珠宝:c位出殡天团\n回复@LYNeileen:手指舞了解一下\n回复@Pigskull大师哥:武汉人，先是武汉人吃野味，后是武汉警察忽视专业医生的判断，三是武汉政府的后知后觉，武汉加油真心说不出口，从所谓的百姓到警察再到政府都烂透了\n回复@咸蛋黄啵啵兔叽包:湖北现在只能中央垂直管理，派驻军队才能救民于水火之中。\n回复@咸蛋黄啵啵兔叽包:湖北现在只能中央垂直管理，派驻军队才能救民于水火之中。\n这几句话就很官僚\n少文件，多干事\n让武汉怎么多家庭支离破碎，真是死不足惜\n我昨天骂了你们骗子，是因为很多事你们瞒报，但是今天这事干的漂亮，我决定夸夸你，词还没想好，下次再说。\n@西红柿是番薯\n回复@LYNeileen:你号没了要\n回复@芙芙ff-:NB了姐妹👭\n"
    },
    {
     "ename": "JSONDecodeError",
     "evalue": "Expecting value: line 1 column 1 (char 0)",
     "output_type": "error",
     "traceback": [
      "\u001b[0;31m---------------------------------------------------------------------------\u001b[0m",
      "\u001b[0;31mJSONDecodeError\u001b[0m                           Traceback (most recent call last)",
      "\u001b[0;32m<ipython-input-19-40152e14378d>\u001b[0m in \u001b[0;36m<module>\u001b[0;34m\u001b[0m\n\u001b[1;32m      2\u001b[0m     \u001b[0murl_comment\u001b[0m \u001b[0;34m=\u001b[0m \u001b[0;34m'https://m.weibo.cn/api/comments/show?id=4469794973353245&page=%d'\u001b[0m\u001b[0;34m%\u001b[0m\u001b[0;34m(\u001b[0m\u001b[0mi\u001b[0m\u001b[0;34m)\u001b[0m\u001b[0;34m\u001b[0m\u001b[0;34m\u001b[0m\u001b[0m\n\u001b[1;32m      3\u001b[0m     \u001b[0mwb_data\u001b[0m \u001b[0;34m=\u001b[0m \u001b[0mrequests\u001b[0m\u001b[0;34m.\u001b[0m\u001b[0mget\u001b[0m\u001b[0;34m(\u001b[0m\u001b[0murl_comment\u001b[0m\u001b[0;34m,\u001b[0m\u001b[0mheaders\u001b[0m\u001b[0;34m=\u001b[0m\u001b[0mheaders\u001b[0m\u001b[0;34m)\u001b[0m\u001b[0;34m.\u001b[0m\u001b[0mtext\u001b[0m\u001b[0;34m\u001b[0m\u001b[0;34m\u001b[0m\u001b[0m\n\u001b[0;32m----> 4\u001b[0;31m     \u001b[0mdata_comment\u001b[0m \u001b[0;34m=\u001b[0m \u001b[0mjson\u001b[0m\u001b[0;34m.\u001b[0m\u001b[0mloads\u001b[0m\u001b[0;34m(\u001b[0m\u001b[0mwb_data\u001b[0m\u001b[0;34m)\u001b[0m\u001b[0;34m\u001b[0m\u001b[0;34m\u001b[0m\u001b[0m\n\u001b[0m\u001b[1;32m      5\u001b[0m     \u001b[0mdata\u001b[0m \u001b[0;34m=\u001b[0m \u001b[0mdata_comment\u001b[0m\u001b[0;34m[\u001b[0m\u001b[0;34m'data'\u001b[0m\u001b[0;34m]\u001b[0m\u001b[0;34m\u001b[0m\u001b[0;34m\u001b[0m\u001b[0m\n\u001b[1;32m      6\u001b[0m     \u001b[0;32mfor\u001b[0m \u001b[0ma\u001b[0m \u001b[0;32min\u001b[0m \u001b[0mdata\u001b[0m\u001b[0;34m[\u001b[0m\u001b[0;34m'data'\u001b[0m\u001b[0;34m]\u001b[0m\u001b[0;34m:\u001b[0m\u001b[0;34m\u001b[0m\u001b[0;34m\u001b[0m\u001b[0m\n",
      "\u001b[0;32m/opt/anaconda3/lib/python3.7/json/__init__.py\u001b[0m in \u001b[0;36mloads\u001b[0;34m(s, encoding, cls, object_hook, parse_float, parse_int, parse_constant, object_pairs_hook, **kw)\u001b[0m\n\u001b[1;32m    346\u001b[0m             \u001b[0mparse_int\u001b[0m \u001b[0;32mis\u001b[0m \u001b[0;32mNone\u001b[0m \u001b[0;32mand\u001b[0m \u001b[0mparse_float\u001b[0m \u001b[0;32mis\u001b[0m \u001b[0;32mNone\u001b[0m \u001b[0;32mand\u001b[0m\u001b[0;34m\u001b[0m\u001b[0;34m\u001b[0m\u001b[0m\n\u001b[1;32m    347\u001b[0m             parse_constant is None and object_pairs_hook is None and not kw):\n\u001b[0;32m--> 348\u001b[0;31m         \u001b[0;32mreturn\u001b[0m \u001b[0m_default_decoder\u001b[0m\u001b[0;34m.\u001b[0m\u001b[0mdecode\u001b[0m\u001b[0;34m(\u001b[0m\u001b[0ms\u001b[0m\u001b[0;34m)\u001b[0m\u001b[0;34m\u001b[0m\u001b[0;34m\u001b[0m\u001b[0m\n\u001b[0m\u001b[1;32m    349\u001b[0m     \u001b[0;32mif\u001b[0m \u001b[0mcls\u001b[0m \u001b[0;32mis\u001b[0m \u001b[0;32mNone\u001b[0m\u001b[0;34m:\u001b[0m\u001b[0;34m\u001b[0m\u001b[0;34m\u001b[0m\u001b[0m\n\u001b[1;32m    350\u001b[0m         \u001b[0mcls\u001b[0m \u001b[0;34m=\u001b[0m \u001b[0mJSONDecoder\u001b[0m\u001b[0;34m\u001b[0m\u001b[0;34m\u001b[0m\u001b[0m\n",
      "\u001b[0;32m/opt/anaconda3/lib/python3.7/json/decoder.py\u001b[0m in \u001b[0;36mdecode\u001b[0;34m(self, s, _w)\u001b[0m\n\u001b[1;32m    335\u001b[0m \u001b[0;34m\u001b[0m\u001b[0m\n\u001b[1;32m    336\u001b[0m         \"\"\"\n\u001b[0;32m--> 337\u001b[0;31m         \u001b[0mobj\u001b[0m\u001b[0;34m,\u001b[0m \u001b[0mend\u001b[0m \u001b[0;34m=\u001b[0m \u001b[0mself\u001b[0m\u001b[0;34m.\u001b[0m\u001b[0mraw_decode\u001b[0m\u001b[0;34m(\u001b[0m\u001b[0ms\u001b[0m\u001b[0;34m,\u001b[0m \u001b[0midx\u001b[0m\u001b[0;34m=\u001b[0m\u001b[0m_w\u001b[0m\u001b[0;34m(\u001b[0m\u001b[0ms\u001b[0m\u001b[0;34m,\u001b[0m \u001b[0;36m0\u001b[0m\u001b[0;34m)\u001b[0m\u001b[0;34m.\u001b[0m\u001b[0mend\u001b[0m\u001b[0;34m(\u001b[0m\u001b[0;34m)\u001b[0m\u001b[0;34m)\u001b[0m\u001b[0;34m\u001b[0m\u001b[0;34m\u001b[0m\u001b[0m\n\u001b[0m\u001b[1;32m    338\u001b[0m         \u001b[0mend\u001b[0m \u001b[0;34m=\u001b[0m \u001b[0m_w\u001b[0m\u001b[0;34m(\u001b[0m\u001b[0ms\u001b[0m\u001b[0;34m,\u001b[0m \u001b[0mend\u001b[0m\u001b[0;34m)\u001b[0m\u001b[0;34m.\u001b[0m\u001b[0mend\u001b[0m\u001b[0;34m(\u001b[0m\u001b[0;34m)\u001b[0m\u001b[0;34m\u001b[0m\u001b[0;34m\u001b[0m\u001b[0m\n\u001b[1;32m    339\u001b[0m         \u001b[0;32mif\u001b[0m \u001b[0mend\u001b[0m \u001b[0;34m!=\u001b[0m \u001b[0mlen\u001b[0m\u001b[0;34m(\u001b[0m\u001b[0ms\u001b[0m\u001b[0;34m)\u001b[0m\u001b[0;34m:\u001b[0m\u001b[0;34m\u001b[0m\u001b[0;34m\u001b[0m\u001b[0m\n",
      "\u001b[0;32m/opt/anaconda3/lib/python3.7/json/decoder.py\u001b[0m in \u001b[0;36mraw_decode\u001b[0;34m(self, s, idx)\u001b[0m\n\u001b[1;32m    353\u001b[0m             \u001b[0mobj\u001b[0m\u001b[0;34m,\u001b[0m \u001b[0mend\u001b[0m \u001b[0;34m=\u001b[0m \u001b[0mself\u001b[0m\u001b[0;34m.\u001b[0m\u001b[0mscan_once\u001b[0m\u001b[0;34m(\u001b[0m\u001b[0ms\u001b[0m\u001b[0;34m,\u001b[0m \u001b[0midx\u001b[0m\u001b[0;34m)\u001b[0m\u001b[0;34m\u001b[0m\u001b[0;34m\u001b[0m\u001b[0m\n\u001b[1;32m    354\u001b[0m         \u001b[0;32mexcept\u001b[0m \u001b[0mStopIteration\u001b[0m \u001b[0;32mas\u001b[0m \u001b[0merr\u001b[0m\u001b[0;34m:\u001b[0m\u001b[0;34m\u001b[0m\u001b[0;34m\u001b[0m\u001b[0m\n\u001b[0;32m--> 355\u001b[0;31m             \u001b[0;32mraise\u001b[0m \u001b[0mJSONDecodeError\u001b[0m\u001b[0;34m(\u001b[0m\u001b[0;34m\"Expecting value\"\u001b[0m\u001b[0;34m,\u001b[0m \u001b[0ms\u001b[0m\u001b[0;34m,\u001b[0m \u001b[0merr\u001b[0m\u001b[0;34m.\u001b[0m\u001b[0mvalue\u001b[0m\u001b[0;34m)\u001b[0m \u001b[0;32mfrom\u001b[0m \u001b[0;32mNone\u001b[0m\u001b[0;34m\u001b[0m\u001b[0;34m\u001b[0m\u001b[0m\n\u001b[0m\u001b[1;32m    356\u001b[0m         \u001b[0;32mreturn\u001b[0m \u001b[0mobj\u001b[0m\u001b[0;34m,\u001b[0m \u001b[0mend\u001b[0m\u001b[0;34m\u001b[0m\u001b[0;34m\u001b[0m\u001b[0m\n",
      "\u001b[0;31mJSONDecodeError\u001b[0m: Expecting value: line 1 column 1 (char 0)"
     ]
    }
   ],
   "source": [
    "for i in range (0,5):\n",
    "    url_comment = 'https://m.weibo.cn/api/comments/show?id=4469794973353245&page=%d'%(i)\n",
    "    wb_data = requests.get(url_comment,headers=headers).text\n",
    "    data_comment = json.loads(wb_data)\n",
    "    data = data_comment['data']\n",
    "    for a in data['data']:\n",
    "        print (re.sub('<[^>]*>', '',a['text']))\n"
   ]
  },
  {
   "cell_type": "code",
   "execution_count": 34,
   "metadata": {},
   "outputs": [],
   "source": [
    "url_comment = 'https://m.weibo.cn/api/comments/show?id=4469794973353245&page=%d'%(2)\n",
    "wb_data = requests.get(url_comment,headers=headers).text\n",
    "data_comment = json.loads(wb_data)"
   ]
  },
  {
   "cell_type": "code",
   "execution_count": 35,
   "metadata": {},
   "outputs": [
    {
     "data": {
      "text/plain": "'{\"ok\":1,\"msg\":\"\\\\u6570\\\\u636e\\\\u83b7\\\\u53d6\\\\u6210\\\\u529f\",\"data\":{\"data\":[{\"id\":4469816339792889,\"created_at\":\"\\\\u521a\\\\u521a\",\"source\":\"\",\"user\":{\"id\":2474136771,\"screen_name\":\"\\\\u6d0b\\\\u8471\\\\u5708\\\\u7684\\\\u4e16\\\\u754c\",\"profile_image_url\":\"https:\\\\/\\\\/tvax3.sinaimg.cn\\\\/crop.0.0.1002.1002.180\\\\/937854c3ly8focoqh8d8mj20ru0rvwhr.jpg?KID=imgbed,tva&Expires=1581181532&ssig=8VUvk0vRb3\",\"verified\":false,\"verified_type\":-1,\"followers_count\":161,\"mbtype\":0,\"profile_url\":\"https:\\\\/\\\\/m.weibo.cn\\\\/u\\\\/2474136771?uid=2474136771\",\"remark\":\"\",\"following\":false,\"follow_me\":false},\"text\":\"\\\\u56de\\\\u590d<a href=\\'https:\\\\/\\\\/m.weibo.cn\\\\/n\\\\/\\\\u8001\\\\u5434\\\\u6709\\\\u70b9\\\\u5fd9\\'>@\\\\u8001\\\\u5434\\\\u6709\\\\u70b9\\\\u5fd9<\\\\/a>:\\\\u5bf9\\\\u554a\\\\uff0c\\\\u591a\\\\u4e48\\\\u597d\\\\u7684\\\\u4fe1\\\\u4ef0\\\\uff0c\\\\u5b66\\\\u653f\\\\u6cbb\\\\u628a\\\\u6211\\\\u611f\\\\u52a8\\\\u7684\\\\u4e00\\\\u584c\\\\u7cca\\\\u6d82\\\\uff0c\\\\u5e0c\\\\u671b\\\\u8d8a\\\\u6765\\\\u8d8a\\\\u597d\\\\u5427\",\"reply_id\":4469795783470235,\"reply_text\":\"\\\\u4e2d\\\\u592e\\\\u7684\\\\u653f\\\\u7b56\\\\u662f\\\\u771f\\\\u597d\\\\uff0c\\\\u4e2d\\\\u56fd\\\\u7684\\\\u767e\\\\u59d3\\\\u662f\\\\u771f\\\\u6734\\\\u5b9e\\\\uff0c\\\\u5730\\\\u65b9\\\\u7684\\\\u72d7\\\\u5b98\\\\u662f\\\\u771f\\\\u591a\",\"like_counts\":0,\"liked\":false},{\"id\":4469816330787324,\"created_at\":\"\\\\u521a\\\\u521a\",\"source\":\"\",\"user\":{\"id\":5060128934,\"screen_name\":\"\\\\u7948\\\\u6c42\\\\u798f\\\\u6c14\\\\u5e38\\\\u4f34\\\\u8eab\\\\u65c1\",\"profile_image_url\":\"https:\\\\/\\\\/tvax1.sinaimg.cn\\\\/crop.0.0.640.640.180\\\\/005wrMGOly8g8um6cevh0j30hs0hsta6.jpg?KID=imgbed,tva&Expires=1581181532&ssig=LDpWR9ZEVs\",\"verified\":false,\"verified_type\":-1,\"followers_count\":464,\"mbtype\":2,\"profile_url\":\"https:\\\\/\\\\/m.weibo.cn\\\\/u\\\\/5060128934?uid=5060128934\",\"remark\":\"\",\"following\":false,\"follow_me\":false},\"text\":\"\\\\u5fc5\\\\u987b\\\\u4e25\\\\u60e9\",\"like_counts\":0,\"liked\":false},{\"id\":4469816322509066,\"created_at\":\"\\\\u521a\\\\u521a\",\"source\":\"\",\"user\":{\"id\":5407376898,\"screen_name\":\"\\\\u8089\\\\u677e\\\\u5c0f\\\\u86cb\\\\u631edarling\",\"profile_image_url\":\"https:\\\\/\\\\/tvax1.sinaimg.cn\\\\/crop.0.0.996.996.180\\\\/005TWNKqly8g24f9ggmjhj30ro0roq59.jpg?KID=imgbed,tva&Expires=1581181532&ssig=QUxP9cDJeB\",\"verified\":false,\"verified_type\":-1,\"followers_count\":139,\"mbtype\":0,\"profile_url\":\"https:\\\\/\\\\/m.weibo.cn\\\\/u\\\\/5407376898?uid=5407376898\",\"remark\":\"\",\"following\":false,\"follow_me\":false},\"text\":\"\\\\u76f8\\\\u4fe1\\\\u4e2d\\\\u592e\\\\uff0c\\\\u5e0c\\\\u671b\\\\u8fd9\\\\u80fd\\\\u6210\\\\u4e3a\\\\u4e00\\\\u4e2a\\\\u8b66\\\\u793a\\\\uff0c\\\\u4e0d\\\\u5fd8\\\\u521d\\\\u5fc3\\\\u6700\\\\u91cd\\\\u8981<span class=\\\\\"url-icon\\\\\"><img alt=[\\\\u5fc3] src=\\\\\"\\\\/\\\\/h5.sinaimg.cn\\\\/m\\\\/emoticon\\\\/icon\\\\/others\\\\/l_xin-6912791858.png\\\\\" style=\\\\\"width:1em; height:1em;\\\\\" \\\\/><\\\\/span><span class=\\\\\"url-icon\\\\\"><img alt=[\\\\u5fc3] src=\\\\\"\\\\/\\\\/h5.sinaimg.cn\\\\/m\\\\/emoticon\\\\/icon\\\\/others\\\\/l_xin-6912791858.png\\\\\" style=\\\\\"width:1em; height:1em;\\\\\" \\\\/><\\\\/span><span class=\\\\\"url-icon\\\\\"><img alt=[\\\\u5fc3] src=\\\\\"\\\\/\\\\/h5.sinaimg.cn\\\\/m\\\\/emoticon\\\\/icon\\\\/others\\\\/l_xin-6912791858.png\\\\\" style=\\\\\"width:1em; height:1em;\\\\\" \\\\/><\\\\/span>\",\"like_counts\":0,\"liked\":false},{\"id\":4469816318988000,\"created_at\":\"\\\\u521a\\\\u521a\",\"source\":\"\",\"user\":{\"id\":5852305287,\"screen_name\":\"elk1016\",\"profile_image_url\":\"https:\\\\/\\\\/tvax4.sinaimg.cn\\\\/crop.0.0.996.996.180\\\\/006o3FWLly8g7t983pvkoj30ro0ro3zq.jpg?KID=imgbed,tva&Expires=1581181532&ssig=D4pkCF2gVs\",\"verified\":false,\"verified_type\":-1,\"followers_count\":10437,\"mbtype\":0,\"profile_url\":\"https:\\\\/\\\\/m.weibo.cn\\\\/u\\\\/5852305287?uid=5852305287\",\"remark\":\"\",\"following\":false,\"follow_me\":false},\"text\":\"\\\\u9ebb\\\\u70e6\\\\u4f60\\\\u4eec\\\\u770b\\\\u6e05\\\\u695a\\\\u597d\\\\u5427\\\\uff0c\\\\u662f\\\\u6e56\\\\u5317\\\\u7701\\\\u7eaa\\\\u59d4\\\\u548c\\\\u7701\\\\u7ec4\\\\u7ec7\\\\u90e8\\\\u53d1\\\\u51fa\\\\u7684\\\\u901a\\\\u77e5\\\\uff0c\\\\u4e0d\\\\u77e5\\\\u9053\\\\u4e2d\\\\u592e\\\\u7684\\\\u4eba\\\\u6ca1\\\\u6765\\\\u4e4b\\\\u524d\\\\u4ed6\\\\u4eec\\\\u5e72\\\\u561b\\\\u4e86\\\\uff0c\\\\u73b0\\\\u5728\\\\u53d1\\\\u901a\\\\u77e5\\\\u8fd9\\\\u4e2a\\\\u64cd\\\\u4f5c\\\\u771f\\\\u7684\\\\u592asao\\\\u4e86\",\"like_counts\":1,\"liked\":false},{\"id\":4469816318987526,\"created_at\":\"\\\\u521a\\\\u521a\",\"source\":\"\",\"user\":{\"id\":6877982753,\"screen_name\":\"\\\\u7ec8\\\\u4e8e\\\\u80fd\\\\u6539\\\\u540d\\\\u4e86\",\"profile_image_url\":\"https:\\\\/\\\\/tvax2.sinaimg.cn\\\\/crop.0.0.664.664.180\\\\/007vtjvHly8gbbkrcnjixj30ig0igta6.jpg?KID=imgbed,tva&Expires=1581181532&ssig=ECmJ45rVLv\",\"verified\":false,\"verified_type\":-1,\"followers_count\":51,\"mbtype\":12,\"profile_url\":\"https:\\\\/\\\\/m.weibo.cn\\\\/u\\\\/6877982753?uid=6877982753\",\"remark\":\"\",\"following\":false,\"follow_me\":false},\"text\":\"\\\\u56de\\\\u590d<a href=\\'https:\\\\/\\\\/m.weibo.cn\\\\/n\\\\/312\\\\u56fd\\\\u9053\\\\u5434\\\\u9053\\\\u957f\\'>@312\\\\u56fd\\\\u9053\\\\u5434\\\\u9053\\\\u957f<\\\\/a>:\\\\u8fd9\\\\u51e0\\\\u5929\\\\u5fae\\\\u535a\\\\u603b\\\\u6709\\\\u98ce\\\\u5411\\\\u5f80\\\\u4e0d\\\\u8981\\\\u76f8\\\\u4fe1\\\\u56fd\\\\u5bb6\\\\u4e00\\\\u8fb9\\\\u5012  \\\\u771f\\\\u7684\\\\u6709\\\\u65f6\\\\u5019\\\\u770b\\\\u7684\\\\u83ab\\\\u540d\\\\u5176\\\\u5999\\\\u3002\\\\u3002\\\\u5408\\\\u7740\\\\u4e2d\\\\u56fd\\\\u4e00\\\\u51fa\\\\u4e8b\\\\u5c31\\\\u5168\\\\u4e2d\\\\u56fd\\\\u90fd\\\\u6ca1\\\\u597d\\\\u4eba\\\\u6ca1\\\\u597d\\\\u5b98\\\\u4e86\\\\u4f3c\\\\u7684\\\\u3002\\\\u3002\\\\u3002\",\"reply_id\":4469815575693150,\"reply_text\":\"\\\\u56de\\\\u590d<a href=\\'https:\\\\/\\\\/m.weibo.cn\\\\/n\\\\/\\\\u7ec8\\\\u4e8e\\\\u80fd\\\\u6539\\\\u540d\\\\u4e86\\'>@\\\\u7ec8\\\\u4e8e\\\\u80fd\\\\u6539\\\\u540d\\\\u4e86<\\\\/a>:\\\\u522b\\\\u642d\\\\u7406\\\\u5979\\\\uff0c\\\\u548c\\\\u5979\\\\u8bf4\\\\u8bdd\\\\uff0c\\\\u5c31\\\\u4e2d\\\\u4e86\\\\u5979\\\\u4eec\\\\u7684\\\\u8ba1\\\\u4e86\",\"like_counts\":0,\"liked\":false},{\"id\":4469816309876874,\"created_at\":\"\\\\u521a\\\\u521a\",\"source\":\"\",\"user\":{\"id\":3784776147,\"screen_name\":\"Aoinatsu_\",\"profile_image_url\":\"https:\\\\/\\\\/tvax1.sinaimg.cn\\\\/crop.0.0.664.664.180\\\\/e19719d3ly8ga4tfa083dj20ig0ig75b.jpg?KID=imgbed,tva&Expires=1581181532&ssig=lGPNMTzOzg\",\"verified\":false,\"verified_type\":-1,\"followers_count\":134,\"mbtype\":0,\"profile_url\":\"https:\\\\/\\\\/m.weibo.cn\\\\/u\\\\/3784776147?uid=3784776147\",\"remark\":\"\",\"following\":false,\"follow_me\":false},\"text\":\"\\\\u4e2d\\\\u592e\\\\u4e0d\\\\u6d3e\\\\u7763\\\\u5bdf\\\\u7ec4\\\\u5417\\\\uff0c\\\\u5c31\\\\u8ba9\\\\u4ed6\\\\u4eec\\\\u81ea\\\\u5df1\\\\u6574\\\\u81ea\\\\u5df1\\\\uff1f\",\"like_counts\":0,\"liked\":false},{\"id\":4469816309737098,\"created_at\":\"\\\\u521a\\\\u521a\",\"source\":\"\",\"user\":{\"id\":3092245047,\"screen_name\":\"\\\\u79c1\\\\u4eba\\\\u6559\\\\u7ec3\\\\u8096\\\\u6c99\",\"profile_image_url\":\"https:\\\\/\\\\/tva2.sinaimg.cn\\\\/crop.0.0.1242.1242.180\\\\/b84fea37jw8fap1x3j4yoj20yi0yitbh.jpg?KID=imgbed,tva&Expires=1581181532&ssig=8Iuz2bw38U\",\"verified\":false,\"verified_type\":-1,\"followers_count\":72,\"mbtype\":0,\"profile_url\":\"https:\\\\/\\\\/m.weibo.cn\\\\/u\\\\/3092245047?uid=3092245047\",\"remark\":\"\",\"following\":false,\"follow_me\":false},\"text\":\"\\\\u56de\\\\u590d<a href=\\'https:\\\\/\\\\/m.weibo.cn\\\\/n\\\\/\\\\u8001\\\\u5434\\\\u6709\\\\u70b9\\\\u5fd9\\'>@\\\\u8001\\\\u5434\\\\u6709\\\\u70b9\\\\u5fd9<\\\\/a>:\\\\u770b\\\\u6765\\\\u4e2d\\\\u592e\\\\u843d\\\\u5b9e\\\\u7684\\\\u8fd8\\\\u662f\\\\u6709\\\\u95ee\\\\u9898\",\"reply_id\":4469795783470235,\"reply_text\":\"\\\\u4e2d\\\\u592e\\\\u7684\\\\u653f\\\\u7b56\\\\u662f\\\\u771f\\\\u597d\\\\uff0c\\\\u4e2d\\\\u56fd\\\\u7684\\\\u767e\\\\u59d3\\\\u662f\\\\u771f\\\\u6734\\\\u5b9e\\\\uff0c\\\\u5730\\\\u65b9\\\\u7684\\\\u72d7\\\\u5b98\\\\u662f\\\\u771f\\\\u591a\",\"like_counts\":0,\"liked\":false},{\"id\":4469816305975858,\"created_at\":\"\\\\u521a\\\\u521a\",\"source\":\"\",\"user\":{\"id\":2606810607,\"screen_name\":\"Janice\\\\u67f3\\\\u67f3\",\"profile_image_url\":\"https:\\\\/\\\\/tvax4.sinaimg.cn\\\\/crop.0.0.1080.1080.180\\\\/9b60c5efly8gako98cew9j20u00u0n35.jpg?KID=imgbed,tva&Expires=1581181532&ssig=4rbb9jAJ0X\",\"verified\":false,\"verified_type\":10,\"followers_count\":812,\"mbtype\":0,\"profile_url\":\"https:\\\\/\\\\/m.weibo.cn\\\\/u\\\\/2606810607?uid=2606810607\",\"remark\":\"\",\"following\":false,\"follow_me\":false},\"text\":\"\\\\u6709\\\\u4e3e\\\\u62a5\\\\u9014\\\\u5f84\\\\u5417\",\"like_counts\":1,\"liked\":false},{\"id\":4469816305656330,\"created_at\":\"\\\\u521a\\\\u521a\",\"source\":\"\",\"user\":{\"id\":3480438980,\"screen_name\":\"\\\\u8463\\\\u5f69\\\\u4e9114568\",\"profile_image_url\":\"https:\\\\/\\\\/tva4.sinaimg.cn\\\\/crop.0.0.180.180.180\\\\/cf7348c4jw1e8qgp5bmzyj2050050aa8.jpg?KID=imgbed,tva&Expires=1581181532&ssig=4rSiFthmpH\",\"verified\":false,\"verified_type\":-1,\"followers_count\":17,\"mbtype\":0,\"profile_url\":\"https:\\\\/\\\\/m.weibo.cn\\\\/u\\\\/3480438980?uid=3480438980\",\"remark\":\"\",\"following\":false,\"follow_me\":false},\"text\":\"\\\\u6211\\\\u89c9\\\\u5f97\\\\u4eca\\\\u5e74\\\\u6e56\\\\u5317\\\\u516c\\\\u52a1\\\\u5458\\\\u6bd4\\\\u8f83\\\\u597d\\\\u8003\\\\uff0c\\\\u56e0\\\\u4e3a\\\\u7f3a\\\\u53e3\\\\u5927\",\"like_counts\":0,\"liked\":false}],\"total_number\":3634,\"max\":364}}'"
     },
     "execution_count": 35,
     "metadata": {},
     "output_type": "execute_result"
    }
   ],
   "source": [
    "wb_data"
   ]
  },
  {
   "cell_type": "code",
   "execution_count": 42,
   "metadata": {},
   "outputs": [],
   "source": [
    "url_comment = 'https://m.weibo.cn/api/comments/show?id=4469794973353245&page=%d'%(1)\n",
    "wb_data = requests.get(url_comment,headers=headers).text"
   ]
  },
  {
   "cell_type": "code",
   "execution_count": 43,
   "metadata": {},
   "outputs": [
    {
     "data": {
      "text/plain": "'{\"ok\":1,\"msg\":\"\\\\u6570\\\\u636e\\\\u83b7\\\\u53d6\\\\u6210\\\\u529f\",\"data\":{\"data\":[{\"id\":4469816783827570,\"created_at\":\"\\\\u521a\\\\u521a\",\"source\":\"\",\"user\":{\"id\":1985465615,\"screen_name\":\"\\\\u5706\\\\u6bdb\\\\u6241\\\\u6bdb\\\\u7ea2\\\\u72d0\\\\u72f8\",\"profile_image_url\":\"https:\\\\/\\\\/tvax4.sinaimg.cn\\\\/crop.0.0.750.750.180\\\\/7657cd0fly8flgyrhu5xbj20ku0ku3zp.jpg?KID=imgbed,tva&Expires=1581181630&ssig=WqFK4BXbbb\",\"verified\":false,\"verified_type\":-1,\"followers_count\":238,\"mbtype\":0,\"profile_url\":\"https:\\\\/\\\\/m.weibo.cn\\\\/u\\\\/1985465615?uid=1985465615\",\"remark\":\"\",\"following\":false,\"follow_me\":false},\"text\":\"\\\\u662f\\\\u4e0d\\\\u662f\\\\u8c0e\\\\u62a5\\\\u7792\\\\u62a5\\\\u2026\\\\u522b\\\\u770b\\\\u51fa\\\\u9662\\\\u7387\\\\uff0c\\\\u770b\\\\u6ba1\\\\u4eea\\\\u9986\\\\u540c\\\\u671f\\\\u706b\\\\u846c\\\\u6570\\\\u636e\\\\u2026<span class=\\\\\"url-icon\\\\\"><img alt=[\\\\u5141\\\\u60b2] src=\\\\\"\\\\/\\\\/h5.sinaimg.cn\\\\/m\\\\/emoticon\\\\/icon\\\\/default\\\\/d_yunbei-9aa3c436a4.png\\\\\" style=\\\\\"width:1em; height:1em;\\\\\" \\\\/><\\\\/span>\",\"like_counts\":0,\"liked\":false},{\"id\":4469816776070630,\"created_at\":\"\\\\u521a\\\\u521a\",\"source\":\"\",\"user\":{\"id\":7224792039,\"screen_name\":\"\\\\u62fe\\\\u8352\\\\u8005\\\\u7684\\\\u51c0\\\\u571f\",\"profile_image_url\":\"https:\\\\/\\\\/tvax2.sinaimg.cn\\\\/crop.0.0.512.512.180\\\\/007SWurRly8g4vu79ph50j30e80e8t8x.jpg?KID=imgbed,tva&Expires=1581181630&ssig=4UodQ9zbCc\",\"verified\":false,\"verified_type\":-1,\"followers_count\":257,\"mbtype\":0,\"profile_url\":\"https:\\\\/\\\\/m.weibo.cn\\\\/u\\\\/7224792039?uid=7224792039\",\"remark\":\"\",\"following\":false,\"follow_me\":false},\"text\":\"\\\\u56de\\\\u590d<a href=\\'https:\\\\/\\\\/m.weibo.cn\\\\/n\\\\/\\\\u90a3\\\\u4e00\\\\u573a\\\\u91d1\\\\u94f6\\\\u73e0\\\\u5b9d\\'>@\\\\u90a3\\\\u4e00\\\\u573a\\\\u91d1\\\\u94f6\\\\u73e0\\\\u5b9d<\\\\/a>:\\\\u6709\\\\u8bf7F4\",\"reply_id\":4469795179239462,\"reply_text\":\"\\\\u6e56\\\\u5317\\\\u5929\\\\u56e2\\\\u5230\\\\u5e95\\\\u662f\\\\u4e2a\\\\u4ec0\\\\u4e48\\\\u6837\\\\u7684\\\\u5929\\\\u56e2\\\\uff1f\\\\uff1f\",\"like_counts\":0,\"liked\":false},{\"id\":4469816775241126,\"created_at\":\"\\\\u521a\\\\u521a\",\"source\":\"\",\"user\":{\"id\":6534872723,\"screen_name\":\"\\\\u7b11\\\\u770b\\\\u73a9\\\\u7ae5\\\\u6349\\\\u67f3\\\\u82b1\",\"profile_image_url\":\"https:\\\\/\\\\/tvax3.sinaimg.cn\\\\/crop.0.0.996.996.180\\\\/0078fEUXly8fspv6hey2vj30ro0roq5h.jpg?KID=imgbed,tva&Expires=1581181630&ssig=CFXubpr29i\",\"verified\":false,\"verified_type\":-1,\"followers_count\":114489,\"mbtype\":11,\"profile_url\":\"https:\\\\/\\\\/m.weibo.cn\\\\/u\\\\/6534872723?uid=6534872723\",\"remark\":\"\",\"following\":false,\"follow_me\":false},\"text\":\"\\\\u56de\\\\u590d<a href=\\'https:\\\\/\\\\/m.weibo.cn\\\\/n\\\\/\\\\u54b8\\\\u86cb\\\\u9ec4\\\\u5575\\\\u5575\\\\u5154\\\\u53fd\\\\u5305\\'>@\\\\u54b8\\\\u86cb\\\\u9ec4\\\\u5575\\\\u5575\\\\u5154\\\\u53fd\\\\u5305<\\\\/a>:\\\\u674e\\\\u6587\\\\u4eae\\\\u7684\\\\u6b7b\\\\u8ddf\\\\u5b98\\\\u50da\\\\u4e3b\\\\u4e49\\\\u6709\\\\u5173\\\\u5417\\\\uff1f\",\"reply_id\":4469795019779492,\"reply_text\":\"\\\\u4e25\\\\u60e9\\\\u5b98\\\\u50da\\\\u4e3b\\\\u4e49<span class=\\\\\"url-icon\\\\\"><img alt=[\\\\u5fae\\\\u7b11] src=\\\\\"\\\\/\\\\/h5.sinaimg.cn\\\\/m\\\\/emoticon\\\\/icon\\\\/default\\\\/d_hehe-039d0a6a8a.png\\\\\" style=\\\\\"width:1em; height:1em;\\\\\" \\\\/><\\\\/span><span class=\\\\\"url-icon\\\\\"><img alt=[\\\\u5fae\\\\u7b11] src=\\\\\"\\\\/\\\\/h5.sinaimg.cn\\\\/m\\\\/emoticon\\\\/icon\\\\/default\\\\/d_hehe-039d0a6a8a.png\\\\\" style=\\\\\"width:1em; height:1em;\\\\\" \\\\/><\\\\/span><span class=\\\\\"url-icon\\\\\"><img alt=[\\\\u5fae\\\\u7b11] src=\\\\\"\\\\/\\\\/h5.sinaimg.cn\\\\/m\\\\/emoticon\\\\/icon\\\\/default\\\\/d_hehe-039d0a6a8a.png\\\\\" style=\\\\\"width:1em; height:1em;\\\\\" \\\\/><\\\\/span><span class=\\\\\"url-icon\\\\\"><img alt=[\\\\u5fae\\\\u7b11] src=\\\\\"\\\\/\\\\/h5.sinaimg.cn\\\\/m\\\\/emoticon\\\\/icon\\\\/default\\\\/d_hehe-039d0a6a8a.png\\\\\" style=\\\\\"width:1em; height:1em;\\\\\" \\\\/><\\\\/span>\",\"like_counts\":0,\"liked\":false},{\"id\":4469816771465563,\"created_at\":\"\\\\u521a\\\\u521a\",\"source\":\"\",\"user\":{\"id\":2005147855,\"screen_name\":\"\\\\u7a46\\\\u6e05-\\\\u5415\",\"profile_image_url\":\"https:\\\\/\\\\/tvax1.sinaimg.cn\\\\/crop.0.0.996.996.180\\\\/778420cfly8gbexdm9xa1j20ro0romy8.jpg?KID=imgbed,tva&Expires=1581181630&ssig=beZ4PoOTO7\",\"verified\":false,\"verified_type\":-1,\"followers_count\":494,\"mbtype\":2,\"profile_url\":\"https:\\\\/\\\\/m.weibo.cn\\\\/u\\\\/2005147855?uid=2005147855\",\"remark\":\"\",\"following\":false,\"follow_me\":false},\"text\":\"\\\\u56de\\\\u590d<a href=\\'https:\\\\/\\\\/m.weibo.cn\\\\/n\\\\/LYNeileen\\'>@LYNeileen<\\\\/a>:<span class=\\\\\"url-icon\\\\\"><img alt=[\\\\u8dea\\\\u4e86] src=\\\\\"\\\\/\\\\/h5.sinaimg.cn\\\\/m\\\\/emoticon\\\\/icon\\\\/default\\\\/d_guile-7b3e474f7f.png\\\\\" style=\\\\\"width:1em; height:1em;\\\\\" \\\\/><\\\\/span>\\\\u52c7\\\\u58eb\",\"reply_id\":4469795191501681,\"reply_text\":\"\\\\u70ed\\\\u8877\\\\u5237\\\\u6807\\\\u8bed \\\\u558a\\\\u53e3\\\\u53f7\\\\u4e0d\\\\u662f\\\\u4f60\\\\u4eec\\\\u4eba\\\\u6c11\\\\u65e5\\\\u62a5\\\\u5417\",\"like_counts\":0,\"liked\":false},{\"id\":4469816767641468,\"created_at\":\"\\\\u521a\\\\u521a\",\"source\":\"\",\"user\":{\"id\":6560656497,\"screen_name\":\"\\\\u6b20\\\\u4e0b\\\\u7684\\\\u8fdf\\\\u65e9\\\\u8981\\\\u8fd8\",\"profile_image_url\":\"https:\\\\/\\\\/tvax3.sinaimg.cn\\\\/crop.0.0.996.996.180\\\\/0079ZQshly8gbh9dzh8skj30ro0rowey.jpg?KID=imgbed,tva&Expires=1581181630&ssig=ppDiY0YkuX\",\"verified\":false,\"verified_type\":-1,\"followers_count\":6,\"mbtype\":0,\"profile_url\":\"https:\\\\/\\\\/m.weibo.cn\\\\/u\\\\/6560656497?uid=6560656497\",\"remark\":\"\",\"following\":false,\"follow_me\":false},\"text\":\"\\\\u56de\\\\u590d<a href=\\'https:\\\\/\\\\/m.weibo.cn\\\\/n\\\\/\\\\u5c0f\\\\u5c0f\\\\u5c0f\\\\u80e1\\\\u6912\\\\u7c89\\'>@\\\\u5c0f\\\\u5c0f\\\\u5c0f\\\\u80e1\\\\u6912\\\\u7c89<\\\\/a>:\\\\u518d\\\\u7b49\\\\u7b49  \\\\u5148\\\\u6cbb\\\\u75c5\\\\u6551\\\\u4eba  \\\\u591a\\\\u5c11\\\\u6761\\\\u4eba\\\\u547d \\\\u591a\\\\u5c11\\\\u4e2a\\\\u5bb6\\\\u5ead \\\\u5168\\\\u4e16\\\\u754c\\\\u7684\\\\u635f\\\\u5931\\\\u6700\\\\u540e\\\\u4e00\\\\u8d77\\\\u7b97 \\\\u706d\\\\u4ed6\\\\u4e5d\\\\u65cf\\\\u90fd\\\\u4e0d\\\\u89e3\\\\u6068<span class=\\\\\"url-icon\\\\\"><img alt=[\\\\u5fae\\\\u7b11] src=\\\\\"\\\\/\\\\/h5.sinaimg.cn\\\\/m\\\\/emoticon\\\\/icon\\\\/default\\\\/d_hehe-039d0a6a8a.png\\\\\" style=\\\\\"width:1em; height:1em;\\\\\" \\\\/><\\\\/span>\",\"reply_id\":4469798136501206,\"reply_text\":\"\\\\u90a3\\\\u4e2a\\\\u9a74\\\\u5507\\\\u4e0d\\\\u5bf9\\\\u9a6c\\\\u5634\\\\u7684\\\\u738b\\\\u6653\\\\u4e1c\\\\u6253\\\\u7b97\\\\u548b\\\\u529e\\\\uff0c\\\\u6211\\\\u6bd4\\\\u8f83\\\\u597d\\\\u5947\",\"like_counts\":0,\"liked\":false},{\"id\":4469816762598475,\"created_at\":\"\\\\u521a\\\\u521a\",\"source\":\"\",\"user\":{\"id\":6318264339,\"screen_name\":\"9\\\\u53f7\\\\u534a\\\\u661f\\\\u6d77\",\"profile_image_url\":\"https:\\\\/\\\\/tvax2.sinaimg.cn\\\\/crop.0.0.996.996.180\\\\/006TANblly8g9ygu5kiqqj30ro0rogo3.jpg?KID=imgbed,tva&Expires=1581181630&ssig=mafGZVI3hp\",\"verified\":false,\"verified_type\":-1,\"followers_count\":121,\"mbtype\":0,\"profile_url\":\"https:\\\\/\\\\/m.weibo.cn\\\\/u\\\\/6318264339?uid=6318264339\",\"remark\":\"\",\"following\":false,\"follow_me\":false},\"text\":\"\\\\u592a\\\\u597d\\\\u4e86\\\\uff01\\\\u5c24\\\\u5176\\\\u662f\\\\u7b2c\\\\u516d\\\\u6761\\\\u3002\\\\u505a\\\\u53f0\\\\u8d26\\\\u8981\\\\u6570\\\\u636e\\\\u5de5\\\\u4f5c\\\\u7559\\\\u75d5\\\\uff0c\\\\u4f60\\\\u8981\\\\u6570\\\\u636e\\\\u4e0d\\\\u4f1a\\\\u81ea\\\\u5df1\\\\u5230\\\\u4e00\\\\u7ebf\\\\u53bb\\\\u7edf\\\\u8ba1\\\\uff1f\",\"like_counts\":0,\"liked\":false},{\"id\":4469816762595724,\"created_at\":\"\\\\u521a\\\\u521a\",\"source\":\"\",\"user\":{\"id\":6485131600,\"screen_name\":\"\\\\u6768\\\\u5b503754\",\"profile_image_url\":\"https:\\\\/\\\\/tvax4.sinaimg.cn\\\\/crop.0.0.132.132.180\\\\/0074SWYMly8foeimr3cqnj303o03oa9x.jpg?KID=imgbed,tva&Expires=1581181630&ssig=wln4E8npHZ\",\"verified\":false,\"verified_type\":-1,\"followers_count\":10,\"mbtype\":0,\"profile_url\":\"https:\\\\/\\\\/m.weibo.cn\\\\/u\\\\/6485131600?uid=6485131600\",\"remark\":\"\",\"following\":false,\"follow_me\":false},\"text\":\"\\\\u738b\\\\u6653\\\\u4e1c:\\\\u53f0\\\\u4e0b\\\\u4f55\\\\u4eba\\\\u554a\\\\uff1f\\\\u7adf\\\\u6562\\\\u88c5\\\\u544a\\\\u672c\\\\u5b98\\\\uff1f\",\"like_counts\":0,\"liked\":false},{\"id\":4469816754614379,\"created_at\":\"\\\\u521a\\\\u521a\",\"source\":\"\",\"user\":{\"id\":1729884323,\"screen_name\":\"Lixinwu233\",\"profile_image_url\":\"https:\\\\/\\\\/tva1.sinaimg.cn\\\\/crop.0.0.180.180.180\\\\/671bf0a3jw1e8qgp5bmzyj2050050aa8.jpg?KID=imgbed,tva&Expires=1581181630&ssig=AMkD8veCEn\",\"verified\":false,\"verified_type\":-1,\"followers_count\":707,\"mbtype\":0,\"profile_url\":\"https:\\\\/\\\\/m.weibo.cn\\\\/u\\\\/1729884323?uid=1729884323\",\"remark\":\"\",\"following\":false,\"follow_me\":false},\"text\":\"\\\\u8fd9\\\\u8bdd\\\\u5c31\\\\u633a\\\\u5b98\\\\u50da\\\\u4e3b\\\\u4e49\\\\u5f62\\\\u52bf\\\\u4e3b\\\\u4e49\\\\u7684\\\\uff0c\\\\u662f\\\\u770b\\\\u4e2d\\\\u592e\\\\u6d3e\\\\u94a6\\\\u5dee\\\\u5927\\\\u81e3\\\\u6765\\\\u4e86\\\\u5427\",\"like_counts\":0,\"liked\":false},{\"id\":4469816750227866,\"created_at\":\"\\\\u521a\\\\u521a\",\"source\":\"\",\"user\":{\"id\":1342986214,\"screen_name\":\"\\\\u8001\\\\u90b5\\\\u7684\\\\u4e16\\\\u754c\",\"profile_image_url\":\"https:\\\\/\\\\/tva3.sinaimg.cn\\\\/crop.0.0.180.180.180\\\\/500c57e6jw1e8qgp5bmzyj2050050aa8.jpg?KID=imgbed,tva&Expires=1581181630&ssig=VExrGWYYBk\",\"verified\":false,\"verified_type\":-1,\"followers_count\":530,\"mbtype\":0,\"profile_url\":\"https:\\\\/\\\\/m.weibo.cn\\\\/u\\\\/1342986214?uid=1342986214\",\"remark\":\"\",\"following\":false,\"follow_me\":false},\"text\":\"\\\\u56de\\\\u590d<a href=\\'https:\\\\/\\\\/m.weibo.cn\\\\/n\\\\/\\\\u600e\\\\u6837\\\\u6539\\\\u540d\\\\u5b57\\\\u5462\\'>@\\\\u600e\\\\u6837\\\\u6539\\\\u540d\\\\u5b57\\\\u5462<\\\\/a>:\\\\u4f60\\\\u5c0f\\\\u5b66\\\\u6ca1\\\\u6bd5\\\\u4e1a\\\\u5427\\\\uff0c\\\\u8bed\\\\u6587\\\\u6c34\\\\u5e73\\\\u4e0d\\\\u884c\\\\u5c31\\\\u522b\\\\u51fa\\\\u6765\\\\u4e22\\\\u4eba\\\\u3002\",\"reply_id\":4469815991166134,\"reply_text\":\"\\\\u56de\\\\u590d<a href=\\'https:\\\\/\\\\/m.weibo.cn\\\\/n\\\\/\\\\u8001\\\\u90b5\\\\u7684\\\\u4e16\\\\u754c\\'>@\\\\u8001\\\\u90b5\\\\u7684\\\\u4e16\\\\u754c<\\\\/a>:\\\\u795e\\\\u7ecf\\\\u75c5\\\\uff0c\\\\u8fd9\\\\u90fd\\\\u6d17\\\\u767d\\\\uff0c\\\\u4f60\\\\u5e02\\\\u957f\\\\u4eb2\\\\u621a\\\\u554a\",\"like_counts\":0,\"liked\":false}],\"total_number\":3720,\"max\":372}}'"
     },
     "execution_count": 43,
     "metadata": {},
     "output_type": "execute_result"
    }
   ],
   "source": [
    "wb_data"
   ]
  },
  {
   "cell_type": "code",
   "execution_count": null,
   "metadata": {},
   "outputs": [],
   "source": []
  },
  {
   "cell_type": "code",
   "execution_count": 23,
   "metadata": {},
   "outputs": [
    {
     "ename": "JSONDecodeError",
     "evalue": "Expecting value: line 1 column 1 (char 0)",
     "output_type": "error",
     "traceback": [
      "\u001b[0;31m---------------------------------------------------------------------------\u001b[0m",
      "\u001b[0;31mJSONDecodeError\u001b[0m                           Traceback (most recent call last)",
      "\u001b[0;32m<ipython-input-23-233fda2857fd>\u001b[0m in \u001b[0;36m<module>\u001b[0;34m\u001b[0m\n\u001b[1;32m     37\u001b[0m \u001b[0;32mfor\u001b[0m \u001b[0mi\u001b[0m \u001b[0;32min\u001b[0m \u001b[0mrange\u001b[0m\u001b[0;34m(\u001b[0m\u001b[0;36m1\u001b[0m\u001b[0;34m,\u001b[0m \u001b[0;36m101\u001b[0m\u001b[0;34m)\u001b[0m\u001b[0;34m:\u001b[0m\u001b[0;34m\u001b[0m\u001b[0;34m\u001b[0m\u001b[0m\n\u001b[1;32m     38\u001b[0m     \u001b[0murl\u001b[0m \u001b[0;34m=\u001b[0m \u001b[0murls\u001b[0m\u001b[0;34m.\u001b[0m\u001b[0mformat\u001b[0m\u001b[0;34m(\u001b[0m\u001b[0mstr\u001b[0m\u001b[0;34m(\u001b[0m\u001b[0mi\u001b[0m\u001b[0;34m)\u001b[0m\u001b[0;34m)\u001b[0m\u001b[0;34m\u001b[0m\u001b[0;34m\u001b[0m\u001b[0m\n\u001b[0;32m---> 39\u001b[0;31m     \u001b[0mget_comment\u001b[0m\u001b[0;34m(\u001b[0m\u001b[0murl\u001b[0m\u001b[0;34m)\u001b[0m\u001b[0;34m\u001b[0m\u001b[0;34m\u001b[0m\u001b[0m\n\u001b[0m\u001b[1;32m     40\u001b[0m     \u001b[0mtime\u001b[0m\u001b[0;34m.\u001b[0m\u001b[0msleep\u001b[0m\u001b[0;34m(\u001b[0m\u001b[0;36m1\u001b[0m\u001b[0;34m)\u001b[0m \u001b[0;31m# 防止爬得太快被封\u001b[0m\u001b[0;34m\u001b[0m\u001b[0;34m\u001b[0m\u001b[0m\n\u001b[1;32m     41\u001b[0m \u001b[0;34m\u001b[0m\u001b[0m\n",
      "\u001b[0;32m<ipython-input-23-233fda2857fd>\u001b[0m in \u001b[0;36mget_comment\u001b[0;34m(url)\u001b[0m\n\u001b[1;32m     17\u001b[0m \u001b[0;31m# 设置提取评论function\u001b[0m\u001b[0;34m\u001b[0m\u001b[0;34m\u001b[0m\u001b[0;34m\u001b[0m\u001b[0m\n\u001b[1;32m     18\u001b[0m \u001b[0;32mdef\u001b[0m \u001b[0mget_comment\u001b[0m\u001b[0;34m(\u001b[0m\u001b[0murl\u001b[0m\u001b[0;34m)\u001b[0m\u001b[0;34m:\u001b[0m\u001b[0;34m\u001b[0m\u001b[0;34m\u001b[0m\u001b[0m\n\u001b[0;32m---> 19\u001b[0;31m     \u001b[0mj\u001b[0m \u001b[0;34m=\u001b[0m \u001b[0mrequests\u001b[0m\u001b[0;34m.\u001b[0m\u001b[0mget\u001b[0m\u001b[0;34m(\u001b[0m\u001b[0murl\u001b[0m\u001b[0;34m,\u001b[0m \u001b[0mheaders\u001b[0m\u001b[0;34m=\u001b[0m\u001b[0mheaders\u001b[0m\u001b[0;34m)\u001b[0m\u001b[0;34m.\u001b[0m\u001b[0mjson\u001b[0m\u001b[0;34m(\u001b[0m\u001b[0;34m)\u001b[0m\u001b[0;34m\u001b[0m\u001b[0;34m\u001b[0m\u001b[0m\n\u001b[0m\u001b[1;32m     20\u001b[0m     \u001b[0mcomment_data\u001b[0m \u001b[0;34m=\u001b[0m \u001b[0mj\u001b[0m\u001b[0;34m[\u001b[0m\u001b[0;34m'data'\u001b[0m\u001b[0;34m]\u001b[0m\u001b[0;34m[\u001b[0m\u001b[0;34m'data'\u001b[0m\u001b[0;34m]\u001b[0m\u001b[0;34m\u001b[0m\u001b[0;34m\u001b[0m\u001b[0m\n\u001b[1;32m     21\u001b[0m     \u001b[0;32mfor\u001b[0m \u001b[0mdata\u001b[0m \u001b[0;32min\u001b[0m \u001b[0mcomment_data\u001b[0m\u001b[0;34m:\u001b[0m\u001b[0;34m\u001b[0m\u001b[0;34m\u001b[0m\u001b[0m\n",
      "\u001b[0;32m/opt/anaconda3/lib/python3.7/site-packages/requests/models.py\u001b[0m in \u001b[0;36mjson\u001b[0;34m(self, **kwargs)\u001b[0m\n\u001b[1;32m    895\u001b[0m                     \u001b[0;31m# used.\u001b[0m\u001b[0;34m\u001b[0m\u001b[0;34m\u001b[0m\u001b[0;34m\u001b[0m\u001b[0m\n\u001b[1;32m    896\u001b[0m                     \u001b[0;32mpass\u001b[0m\u001b[0;34m\u001b[0m\u001b[0;34m\u001b[0m\u001b[0m\n\u001b[0;32m--> 897\u001b[0;31m         \u001b[0;32mreturn\u001b[0m \u001b[0mcomplexjson\u001b[0m\u001b[0;34m.\u001b[0m\u001b[0mloads\u001b[0m\u001b[0;34m(\u001b[0m\u001b[0mself\u001b[0m\u001b[0;34m.\u001b[0m\u001b[0mtext\u001b[0m\u001b[0;34m,\u001b[0m \u001b[0;34m**\u001b[0m\u001b[0mkwargs\u001b[0m\u001b[0;34m)\u001b[0m\u001b[0;34m\u001b[0m\u001b[0;34m\u001b[0m\u001b[0m\n\u001b[0m\u001b[1;32m    898\u001b[0m \u001b[0;34m\u001b[0m\u001b[0m\n\u001b[1;32m    899\u001b[0m     \u001b[0;34m@\u001b[0m\u001b[0mproperty\u001b[0m\u001b[0;34m\u001b[0m\u001b[0;34m\u001b[0m\u001b[0m\n",
      "\u001b[0;32m/opt/anaconda3/lib/python3.7/json/__init__.py\u001b[0m in \u001b[0;36mloads\u001b[0;34m(s, encoding, cls, object_hook, parse_float, parse_int, parse_constant, object_pairs_hook, **kw)\u001b[0m\n\u001b[1;32m    346\u001b[0m             \u001b[0mparse_int\u001b[0m \u001b[0;32mis\u001b[0m \u001b[0;32mNone\u001b[0m \u001b[0;32mand\u001b[0m \u001b[0mparse_float\u001b[0m \u001b[0;32mis\u001b[0m \u001b[0;32mNone\u001b[0m \u001b[0;32mand\u001b[0m\u001b[0;34m\u001b[0m\u001b[0;34m\u001b[0m\u001b[0m\n\u001b[1;32m    347\u001b[0m             parse_constant is None and object_pairs_hook is None and not kw):\n\u001b[0;32m--> 348\u001b[0;31m         \u001b[0;32mreturn\u001b[0m \u001b[0m_default_decoder\u001b[0m\u001b[0;34m.\u001b[0m\u001b[0mdecode\u001b[0m\u001b[0;34m(\u001b[0m\u001b[0ms\u001b[0m\u001b[0;34m)\u001b[0m\u001b[0;34m\u001b[0m\u001b[0;34m\u001b[0m\u001b[0m\n\u001b[0m\u001b[1;32m    349\u001b[0m     \u001b[0;32mif\u001b[0m \u001b[0mcls\u001b[0m \u001b[0;32mis\u001b[0m \u001b[0;32mNone\u001b[0m\u001b[0;34m:\u001b[0m\u001b[0;34m\u001b[0m\u001b[0;34m\u001b[0m\u001b[0m\n\u001b[1;32m    350\u001b[0m         \u001b[0mcls\u001b[0m \u001b[0;34m=\u001b[0m \u001b[0mJSONDecoder\u001b[0m\u001b[0;34m\u001b[0m\u001b[0;34m\u001b[0m\u001b[0m\n",
      "\u001b[0;32m/opt/anaconda3/lib/python3.7/json/decoder.py\u001b[0m in \u001b[0;36mdecode\u001b[0;34m(self, s, _w)\u001b[0m\n\u001b[1;32m    335\u001b[0m \u001b[0;34m\u001b[0m\u001b[0m\n\u001b[1;32m    336\u001b[0m         \"\"\"\n\u001b[0;32m--> 337\u001b[0;31m         \u001b[0mobj\u001b[0m\u001b[0;34m,\u001b[0m \u001b[0mend\u001b[0m \u001b[0;34m=\u001b[0m \u001b[0mself\u001b[0m\u001b[0;34m.\u001b[0m\u001b[0mraw_decode\u001b[0m\u001b[0;34m(\u001b[0m\u001b[0ms\u001b[0m\u001b[0;34m,\u001b[0m \u001b[0midx\u001b[0m\u001b[0;34m=\u001b[0m\u001b[0m_w\u001b[0m\u001b[0;34m(\u001b[0m\u001b[0ms\u001b[0m\u001b[0;34m,\u001b[0m \u001b[0;36m0\u001b[0m\u001b[0;34m)\u001b[0m\u001b[0;34m.\u001b[0m\u001b[0mend\u001b[0m\u001b[0;34m(\u001b[0m\u001b[0;34m)\u001b[0m\u001b[0;34m)\u001b[0m\u001b[0;34m\u001b[0m\u001b[0;34m\u001b[0m\u001b[0m\n\u001b[0m\u001b[1;32m    338\u001b[0m         \u001b[0mend\u001b[0m \u001b[0;34m=\u001b[0m \u001b[0m_w\u001b[0m\u001b[0;34m(\u001b[0m\u001b[0ms\u001b[0m\u001b[0;34m,\u001b[0m \u001b[0mend\u001b[0m\u001b[0;34m)\u001b[0m\u001b[0;34m.\u001b[0m\u001b[0mend\u001b[0m\u001b[0;34m(\u001b[0m\u001b[0;34m)\u001b[0m\u001b[0;34m\u001b[0m\u001b[0;34m\u001b[0m\u001b[0m\n\u001b[1;32m    339\u001b[0m         \u001b[0;32mif\u001b[0m \u001b[0mend\u001b[0m \u001b[0;34m!=\u001b[0m \u001b[0mlen\u001b[0m\u001b[0;34m(\u001b[0m\u001b[0ms\u001b[0m\u001b[0;34m)\u001b[0m\u001b[0;34m:\u001b[0m\u001b[0;34m\u001b[0m\u001b[0;34m\u001b[0m\u001b[0m\n",
      "\u001b[0;32m/opt/anaconda3/lib/python3.7/json/decoder.py\u001b[0m in \u001b[0;36mraw_decode\u001b[0;34m(self, s, idx)\u001b[0m\n\u001b[1;32m    353\u001b[0m             \u001b[0mobj\u001b[0m\u001b[0;34m,\u001b[0m \u001b[0mend\u001b[0m \u001b[0;34m=\u001b[0m \u001b[0mself\u001b[0m\u001b[0;34m.\u001b[0m\u001b[0mscan_once\u001b[0m\u001b[0;34m(\u001b[0m\u001b[0ms\u001b[0m\u001b[0;34m,\u001b[0m \u001b[0midx\u001b[0m\u001b[0;34m)\u001b[0m\u001b[0;34m\u001b[0m\u001b[0;34m\u001b[0m\u001b[0m\n\u001b[1;32m    354\u001b[0m         \u001b[0;32mexcept\u001b[0m \u001b[0mStopIteration\u001b[0m \u001b[0;32mas\u001b[0m \u001b[0merr\u001b[0m\u001b[0;34m:\u001b[0m\u001b[0;34m\u001b[0m\u001b[0;34m\u001b[0m\u001b[0m\n\u001b[0;32m--> 355\u001b[0;31m             \u001b[0;32mraise\u001b[0m \u001b[0mJSONDecodeError\u001b[0m\u001b[0;34m(\u001b[0m\u001b[0;34m\"Expecting value\"\u001b[0m\u001b[0;34m,\u001b[0m \u001b[0ms\u001b[0m\u001b[0;34m,\u001b[0m \u001b[0merr\u001b[0m\u001b[0;34m.\u001b[0m\u001b[0mvalue\u001b[0m\u001b[0;34m)\u001b[0m \u001b[0;32mfrom\u001b[0m \u001b[0;32mNone\u001b[0m\u001b[0;34m\u001b[0m\u001b[0;34m\u001b[0m\u001b[0m\n\u001b[0m\u001b[1;32m    356\u001b[0m         \u001b[0;32mreturn\u001b[0m \u001b[0mobj\u001b[0m\u001b[0;34m,\u001b[0m \u001b[0mend\u001b[0m\u001b[0;34m\u001b[0m\u001b[0;34m\u001b[0m\u001b[0m\n",
      "\u001b[0;31mJSONDecodeError\u001b[0m: Expecting value: line 1 column 1 (char 0)"
     ]
    }
   ],
   "source": [
    "import requests\n",
    "import re\n",
    "import time\n",
    "import pandas as pd\n",
    " \n",
    "# 把id替换成你想爬的地址id\n",
    "urls = 'https://m.weibo.cn/api/comments/show?id=4469794973353245&page={}'\n",
    " \n",
    "headers = {  \n",
    "    \"Cookies\": '_T_WM=39110711777; WEIBOCN_FROM=1110006030; SUB=_2A25zOsJmDeRhGeNM7lcY9CvLzDyIHXVQxO4urDV6PUJbktANLUuhkW1NThqmxQpLAXE3zxho_FuQAxjZ-eg97qj4; SUBP=0033WrSXqPxfM725Ws9jqgMF55529P9D9WhvkB3ZxowwmNcfv4HdBSpH5JpX5KzhUgL.Fo-ESK-4Sh-NS052dJLoIEXLxKBLBonLBKnLxK.LBKeL12-LxK-L1h-LB-eLxK-LB-BL1K5LxKBLBonLBKnt; SUHB=0RyqURteUcBIHB; SSOLoginState=1581167158; MLOGIN=1; XSRF-TOKEN=c4b391; M_WEIBOCN_PARAMS=luicode%3D10000011%26lfid%3D1076032803301701%26uicode%3D20000061%26fid%3D4469794973353245%26oid%3D4469794973353245',  \n",
    "    \"User-Agent\":'Mozilla/5.0 (Windows NT 10.0; Win64; x64) AppleWebKit/537.36 (KHTML, like Gecko) Chrome/66.0.3359.139 Safari/537.36'  \n",
    "}\n",
    " \n",
    "# 找到html标签\n",
    "tags = re.compile('</?\\w+[^>]*>')\n",
    " \n",
    "# 设置提取评论function\n",
    "def get_comment(url):\n",
    "    j = requests.get(url, headers=headers).json()\n",
    "    comment_data = j['data']['data']\n",
    "    for data in comment_data:\n",
    "        try:\n",
    "            comment = tags.sub('', data['text']) # 去掉html标签\n",
    "            reply = tags.sub('', data['reply_text'])\n",
    "            weibo_id = data['id']\n",
    "            reply_id = data['reply_id']\n",
    "\n",
    "            comments.append(comment)\n",
    "            comments.append(reply)\n",
    "            ids.append(weibo_id)\n",
    "            ids.append(reply_id)\n",
    "        except KeyError:\n",
    "            pass\n",
    " \n",
    " \n",
    "comments, ids = [], []\n",
    "for i in range(1, 101):\n",
    "    url = urls.format(str(i))\n",
    "    get_comment(url)\n",
    "    time.sleep(1) # 防止爬得太快被封\n",
    " \n",
    "# 这里我用pandas写入csv文件，需要设置encoding，不然会出现乱码\n",
    "df = pd.DataFrame({'ID': ids, '评论': comments})\n",
    "df = df.drop_duplicates()\n",
    "df.to_csv('观察者网.csv', index=False, encoding='gb18030')\n"
   ]
  },
  {
   "cell_type": "code",
   "execution_count": null,
   "metadata": {},
   "outputs": [],
   "source": []
  }
 ],
 "metadata": {
  "kernelspec": {
   "display_name": "Python 3.7.4 64-bit ('base': conda)",
   "language": "python",
   "name": "python37464bitbaseconda1cd2d0d6e41a416eb3bb8aebfedc92b4"
  },
  "language_info": {
   "codemirror_mode": {
    "name": "ipython",
    "version": 3
   },
   "file_extension": ".py",
   "mimetype": "text/x-python",
   "name": "python",
   "nbconvert_exporter": "python",
   "pygments_lexer": "ipython3",
   "version": "3.7.4-final"
  }
 },
 "nbformat": 4,
 "nbformat_minor": 2
}