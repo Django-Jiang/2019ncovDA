{
 "cells": [
  {
   "cell_type": "code",
   "execution_count": null,
   "metadata": {},
   "outputs": [],
   "source": [
    "import requests\n",
    "import re\n",
    "import time"
   ]
  },
  {
   "cell_type": "code",
   "execution_count": null,
   "metadata": {},
   "outputs": [],
   "source": [
    "def get_one_page(url):#请求函数：获取某一网页上的所有内容\n",
    "    headers = {\n",
    "    'User-agent' : 'your User-agent',\n",
    "    'Host' : 'weibo.cn',\n",
    "    'Accept' : 'application/json, text/plain, */*',\n",
    "    'Accept-Language' : 'zh-CN,zh;q=0.9',\n",
    "    'Accept-Encoding' : 'gzip, deflate, br',\n",
    "    'Cookie' : 'your Cookie!!!!',\n",
    "    'DNT' : '1',\n",
    "    'Connection' : 'keep-alive'\n",
    "     }#请求头的书写，包括User-agent,Cookie等\n",
    "    response = requests.get(url,headers = headers,verify=False)#利用requests.get命令获取网页html\n",
    "    if response.status_code == 200:#状态为200即为爬取成功\n",
    "        return response.text#返回值为html文档，传入到解析函数当中\n",
    "    return None\n",
    "def parse_one_page(html):#解析html并存入到文档result.txt中\n",
    "    pattern = re.compile('<span class=\"ctt\">.*?</span>', re.S)\n",
    "    items = re.findall(pattern,html)\n",
    "    result = str(items)\n",
    "    with open('test.txt','a',encoding='utf-8') as fp:\n",
    "        fp.write(result)\n"
   ]
  },
  {
   "cell_type": "code",
   "execution_count": null,
   "metadata": {},
   "outputs": [],
   "source": [
    "# -*- coding:utf-8 -*-\n",
    " \n",
    "import requests\n",
    "import re\n",
    "import time\n",
    "import pandas as pd\n",
    " \n",
    "# 把id替换成你想爬的地址id\n",
    "urls = 'https://m.weibo.cn/api/comments/show?id=4073157046629802&page={}'\n",
    " \n",
    "headers = {'Cookies':'Your cookies',\n",
    "          'User-Agent':'Mozilla/5.0 (Linux; Android 6.0; Nexus 5 Build/MRA58N) AppleWebKit/537.36 (KHTML, like Gecko) Chrome/80.0.3987.87 Mobile Safari/537.36'}\n",
    "# 找到html标签\n",
    "tags = re.compile('</?\\w+[^>]*>')\n",
    " \n",
    "# 设置提取评论function\n",
    "def get_comment(url):\n",
    "    j = requests.get(url, headers=headers).json()\n",
    "    comment_data = j['data']['data']\n",
    "    for data in comment_data:\n",
    "        try:\n",
    "            comment = tags.sub('', data['text']) # 去掉html标签\n",
    "            reply = tags.sub('', data['reply_text'])\n",
    "            weibo_id = data['id']\n",
    "            reply_id = data['reply_id']\n",
    " \n",
    "            comments.append(comment)\n",
    "            comments.append(reply)\n",
    "            ids.append(weibo_id)\n",
    "            ids.append(reply_id)\n",
    " \n",
    "        except KeyError:\n",
    "            pass\n",
    " \n",
    " \n",
    "comments, ids = [], []\n",
    "url = urls.format(str(1))\n",
    "get_comment(url)\n",
    "\n",
    " \n",
    "\n"
   ]
  },
  {
   "cell_type": "code",
   "execution_count": null,
   "metadata": {},
   "outputs": [],
   "source": [
    "import requests\n",
    "import json  \n",
    "import pymongo  \n",
    "import re"
   ]
  },
  {
   "cell_type": "code",
   "execution_count": null,
   "metadata": {},
   "outputs": [],
   "source": [
    "client = pymongo.MongoClient('localhost', 27017)  \n",
    "weibo = client['weibo']\n",
    "comment_ = weibo['comment_fangwens']"
   ]
  },
  {
   "cell_type": "code",
   "execution_count": null,
   "metadata": {},
   "outputs": [],
   "source": [
    "headers = {  \n",
    "    \"Cookies\": '',  \n",
    "    \"User-Agent\":'Mozilla/5.0 (Windows NT 10.0; Win64; x64) AppleWebKit/537.36 (KHTML, like Gecko) Chrome/66.0.3359.139 Safari/537.36'  \n",
    "}\n"
   ]
  },
  {
   "cell_type": "code",
   "execution_count": null,
   "metadata": {},
   "outputs": [],
   "source": [
    "for i in range (0,5):\n",
    "    url_comment = 'https://m.weibo.cn/api/comments/show?id=4469794973353245&page=%d'%(i)\n",
    "    wb_data = requests.get(url_comment,headers=headers).text\n",
    "    data_comment = json.loads(wb_data)\n",
    "    data = data_comment['data']\n",
    "    for a in data['data']:\n",
    "        print (re.sub('<[^>]*>', '',a['text']))\n"
   ]
  },
  {
   "cell_type": "code",
   "execution_count": null,
   "metadata": {},
   "outputs": [],
   "source": [
    "url_comment = 'https://m.weibo.cn/api/comments/show?id=4469794973353245&page=%d'%(2)\n",
    "wb_data = requests.get(url_comment,headers=headers).text\n",
    "data_comment = json.loads(wb_data)"
   ]
  },
  {
   "cell_type": "code",
   "execution_count": null,
   "metadata": {},
   "outputs": [],
   "source": [
    "wb_data"
   ]
  },
  {
   "cell_type": "code",
   "execution_count": null,
   "metadata": {},
   "outputs": [],
   "source": [
    "url_comment = 'https://m.weibo.cn/api/comments/show?id=4469794973353245&page=%d'%(1)\n",
    "wb_data = requests.get(url_comment,headers=headers).text"
   ]
  },
  {
   "cell_type": "code",
   "execution_count": null,
   "metadata": {},
   "outputs": [],
   "source": [
    "wb_data"
   ]
  },
  {
   "cell_type": "code",
   "execution_count": null,
   "metadata": {},
   "outputs": [],
   "source": []
  },
  {
   "cell_type": "code",
   "execution_count": null,
   "metadata": {},
   "outputs": [],
   "source": [
    "import requests\n",
    "import re\n",
    "import time\n",
    "import pandas as pd\n",
    " \n",
    "# 把id替换成你想爬的地址id\n",
    "urls = 'https://m.weibo.cn/api/comments/show?id=4469794973353245&page={}'\n",
    " \n",
    "headers = {  \n",
    "    \"Cookies\": '',  \n",
    "    \"User-Agent\":'Mozilla/5.0 (Windows NT 10.0; Win64; x64) AppleWebKit/537.36 (KHTML, like Gecko) Chrome/66.0.3359.139 Safari/537.36'  \n",
    "}\n",
    " \n",
    "# 找到html标签\n",
    "tags = re.compile('</?\\w+[^>]*>')\n",
    " \n",
    "# 设置提取评论function\n",
    "def get_comment(url):\n",
    "    j = requests.get(url, headers=headers).json()\n",
    "    comment_data = j['data']['data']\n",
    "    for data in comment_data:\n",
    "        try:\n",
    "            comment = tags.sub('', data['text']) # 去掉html标签\n",
    "            reply = tags.sub('', data['reply_text'])\n",
    "            weibo_id = data['id']\n",
    "            reply_id = data['reply_id']\n",
    "\n",
    "            comments.append(comment)\n",
    "            comments.append(reply)\n",
    "            ids.append(weibo_id)\n",
    "            ids.append(reply_id)\n",
    "        except KeyError:\n",
    "            pass\n",
    " \n",
    " \n",
    "comments, ids = [], []\n",
    "for i in range(1, 101):\n",
    "    url = urls.format(str(i))\n",
    "    get_comment(url)\n",
    "    time.sleep(1) # 防止爬得太快被封\n",
    " \n",
    "# 这里我用pandas写入csv文件，需要设置encoding，不然会出现乱码\n",
    "df = pd.DataFrame({'ID': ids, '评论': comments})\n",
    "df = df.drop_duplicates()\n",
    "df.to_csv('观察者网.csv', index=False, encoding='gb18030')\n"
   ]
  },
  {
   "cell_type": "code",
   "execution_count": null,
   "metadata": {},
   "outputs": [],
   "source": []
  }
 ],
 "metadata": {
  "kernelspec": {
   "display_name": "Python 3.7.4 64-bit ('base': conda)",
   "language": "python",
   "name": "python37464bitbaseconda1cd2d0d6e41a416eb3bb8aebfedc92b4"
  },
  "language_info": {
   "codemirror_mode": {
    "name": "ipython",
    "version": 3
   },
   "file_extension": ".py",
   "mimetype": "text/x-python",
   "name": "python",
   "nbconvert_exporter": "python",
   "pygments_lexer": "ipython3",
   "version": "3.7.4-final"
  }
 },
 "nbformat": 4,
 "nbformat_minor": 2
}