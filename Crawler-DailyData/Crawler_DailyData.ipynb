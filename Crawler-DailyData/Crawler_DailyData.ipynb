{
 "nbformat": 4,
 "nbformat_minor": 2,
 "metadata": {
  "language_info": {
   "name": "python",
   "codemirror_mode": {
    "name": "ipython",
    "version": 3
   },
   "version": "3.7.4-final"
  },
  "orig_nbformat": 2,
  "file_extension": ".py",
  "mimetype": "text/x-python",
  "name": "python",
  "npconvert_exporter": "python",
  "pygments_lexer": "ipython3",
  "version": 3,
  "kernelspec": {
   "name": "python37464bitbaseconda1cd2d0d6e41a416eb3bb8aebfedc92b4",
   "display_name": "Python 3.7.4 64-bit ('base': conda)"
  }
 },
 "cells": [
  {
   "cell_type": "markdown",
   "execution_count": null,
   "metadata": {},
   "outputs": [],
   "source": [
    "# 爬虫收集数据\n",
    "## Data: From TX"
   ]
  },
  {
   "cell_type": "code",
   "execution_count": 5,
   "metadata": {},
   "outputs": [],
   "source": [
    "# -*- coding: utf-8 -*-\n",
    "import os\n",
    "import conda\n",
    "\n",
    "conda_file_dir = conda.__file__\n",
    "conda_dir = conda_file_dir.split('lib')[0]\n",
    "proj_lib = os.path.join(os.path.join(conda_dir, 'share'), 'proj')\n",
    "os.environ[\"PROJ_LIB\"] = proj_lib\n",
    "\n",
    "import time\n",
    "import json\n",
    "import requests\n",
    "from datetime import datetime\n",
    "import numpy as np\n",
    "import matplotlib\n",
    "import matplotlib.figure\n",
    "from matplotlib.font_manager import FontProperties\n",
    "from matplotlib.backends.backend_agg import FigureCanvasAgg\n",
    "from matplotlib.patches import Polygon\n",
    "from matplotlib.collections import PatchCollection\n",
    "from mpl_toolkits.basemap import Basemap\n",
    "import matplotlib.pyplot as plt\n",
    "import matplotlib.dates as mdates"
   ]
  },
  {
   "cell_type": "code",
   "execution_count": null,
   "metadata": {},
   "outputs": [],
   "source": [
    "import time, json, requests\n",
    "url = 'https://view.inews.qq.com/g2/getOnsInfo?name=wuwei_ww_time_line&callback=&_=%d'%int(time.time()*1000)\n",
    "data = json.loads(requests.get(url=url).json()['data'])\n"
   ]
  },
  {
   "cell_type": "code",
   "execution_count": null,
   "metadata": {},
   "outputs": [],
   "source": [
    "data[0]"
   ]
  },
  {
   "cell_type": "code",
   "execution_count": null,
   "metadata": {},
   "outputs": [],
   "source": [
    "url2 ='https://view.inews.qq.com/g2/getOnsInfo?name=disease_h5&callback=&_=%d'%int(time.time()*1000)\n",
    "data2 = json.loads(requests.get(url=url2).json()['data'])\n",
    "data2.keys()"
   ]
  },
  {
   "cell_type": "code",
   "execution_count": 4,
   "metadata": {},
   "outputs": [
    {
     "ename": "TypeError",
     "evalue": "string indices must be integers",
     "output_type": "error",
     "traceback": [
      "\u001b[0;31m---------------------------------------------------------------------------\u001b[0m",
      "\u001b[0;31mTypeError\u001b[0m                                 Traceback (most recent call last)",
      "\u001b[0;32m<ipython-input-4-c4bb614df330>\u001b[0m in \u001b[0;36m<module>\u001b[0;34m\u001b[0m\n\u001b[1;32m     11\u001b[0m \u001b[0;34m\u001b[0m\u001b[0m\n\u001b[1;32m     12\u001b[0m     \u001b[0;32mreturn\u001b[0m \u001b[0mdata\u001b[0m\u001b[0;34m\u001b[0m\u001b[0;34m\u001b[0m\u001b[0m\n\u001b[0;32m---> 13\u001b[0;31m \u001b[0mcatch_distribution\u001b[0m\u001b[0;34m(\u001b[0m\u001b[0;34m)\u001b[0m\u001b[0;34m\u001b[0m\u001b[0;34m\u001b[0m\u001b[0m\n\u001b[0m",
      "\u001b[0;32m<ipython-input-4-c4bb614df330>\u001b[0m in \u001b[0;36mcatch_distribution\u001b[0;34m()\u001b[0m\n\u001b[1;32m      6\u001b[0m \u001b[0;34m\u001b[0m\u001b[0m\n\u001b[1;32m      7\u001b[0m     \u001b[0;32mfor\u001b[0m \u001b[0mitem\u001b[0m \u001b[0;32min\u001b[0m \u001b[0mjson\u001b[0m\u001b[0;34m.\u001b[0m\u001b[0mloads\u001b[0m\u001b[0;34m(\u001b[0m\u001b[0mrequests\u001b[0m\u001b[0;34m.\u001b[0m\u001b[0mget\u001b[0m\u001b[0;34m(\u001b[0m\u001b[0murl\u001b[0m\u001b[0;34m=\u001b[0m\u001b[0murl\u001b[0m\u001b[0;34m)\u001b[0m\u001b[0;34m.\u001b[0m\u001b[0mjson\u001b[0m\u001b[0;34m(\u001b[0m\u001b[0;34m)\u001b[0m\u001b[0;34m[\u001b[0m\u001b[0;34m'data'\u001b[0m\u001b[0;34m]\u001b[0m\u001b[0;34m)\u001b[0m\u001b[0;34m:\u001b[0m\u001b[0;34m\u001b[0m\u001b[0;34m\u001b[0m\u001b[0m\n\u001b[0;32m----> 8\u001b[0;31m         \u001b[0;32mif\u001b[0m \u001b[0mitem\u001b[0m\u001b[0;34m[\u001b[0m\u001b[0;34m'area'\u001b[0m\u001b[0;34m]\u001b[0m\u001b[0;34m[\u001b[0m\u001b[0;36m0\u001b[0m\u001b[0;34m]\u001b[0m \u001b[0;32mnot\u001b[0m \u001b[0;32min\u001b[0m \u001b[0mdata\u001b[0m\u001b[0;34m:\u001b[0m\u001b[0;34m\u001b[0m\u001b[0;34m\u001b[0m\u001b[0m\n\u001b[0m\u001b[1;32m      9\u001b[0m             \u001b[0mdata\u001b[0m\u001b[0;34m.\u001b[0m\u001b[0mupdate\u001b[0m\u001b[0;34m(\u001b[0m\u001b[0;34m{\u001b[0m\u001b[0mitem\u001b[0m\u001b[0;34m[\u001b[0m\u001b[0;34m'area'\u001b[0m\u001b[0;34m]\u001b[0m\u001b[0;34m:\u001b[0m\u001b[0;36m0\u001b[0m\u001b[0;34m}\u001b[0m\u001b[0;34m)\u001b[0m\u001b[0;34m\u001b[0m\u001b[0;34m\u001b[0m\u001b[0m\n\u001b[1;32m     10\u001b[0m         \u001b[0mdata\u001b[0m\u001b[0;34m[\u001b[0m\u001b[0mitem\u001b[0m\u001b[0;34m[\u001b[0m\u001b[0;34m'area'\u001b[0m\u001b[0;34m]\u001b[0m\u001b[0;34m]\u001b[0m \u001b[0;34m+=\u001b[0m \u001b[0mint\u001b[0m\u001b[0;34m(\u001b[0m\u001b[0mitem\u001b[0m\u001b[0;34m[\u001b[0m\u001b[0;34m'confirm'\u001b[0m\u001b[0;34m]\u001b[0m\u001b[0;34m)\u001b[0m\u001b[0;34m\u001b[0m\u001b[0;34m\u001b[0m\u001b[0m\n",
      "\u001b[0;31mTypeError\u001b[0m: string indices must be integers"
     ]
    }
   ],
   "source": [
    "def catch_distribution():\n",
    "    \"\"\"抓取行政区域确诊分布数据\"\"\"\n",
    "\n",
    "    data = dict()\n",
    "    url ='https://view.inews.qq.com/g2/getOnsInfo?name=disease_h5&callback=&_=%d'%int(time.time()*1000)\n",
    "    \n",
    "    for item in json.loads(requests.get(url=url).json()['data']):\n",
    "        if item['area'][0] not in data:\n",
    "            data.update({item['area']:0})\n",
    "        data[item['area']] += int(item['confirm'])\n",
    "\n",
    "    return data\n",
    "catch_distribution()"
   ]
  },
  {
   "cell_type": "code",
   "execution_count": 2,
   "metadata": {},
   "outputs": [
    {
     "data": {
      "text/plain": "dict"
     },
     "execution_count": 2,
     "metadata": {},
     "output_type": "execute_result"
    }
   ],
   "source": [
    "import time, json, requests\n",
    "url ='https://view.inews.qq.com/g2/getOnsInfo?name=disease_h5&callback=&_=%d'%int(time.time()*1000)\n",
    "data = json.loads(requests.get(url=url).json()['data'])\n",
    "type(data)"
   ]
  },
  {
   "cell_type": "code",
   "execution_count": 3,
   "metadata": {},
   "outputs": [],
   "source": [
    "json_str = json.dumps(data, indent=4,ensure_ascii=False)\n",
    "\n",
    "with open(\"get.json\",'w') as f:\n",
    "    f.write(json_str)"
   ]
  },
  {
   "cell_type": "code",
   "execution_count": null,
   "metadata": {},
   "outputs": [],
   "source": [
    "key = list(data.keys())##keys(['chinaTotal', 'chinaAdd', 'lastUpdateTime', 'areaTree',                                                                      ##'chinaDayList', 'chinaDayAddList', 'isShowAdd'])"
   ]
  },
  {
   "cell_type": "code",
   "execution_count": null,
   "metadata": {},
   "outputs": [],
   "source": [
    "data[key[0]]"
   ]
  },
  {
   "cell_type": "code",
   "execution_count": null,
   "metadata": {},
   "outputs": [],
   "source": [
    "data[key[1]]"
   ]
  },
  {
   "cell_type": "code",
   "execution_count": null,
   "metadata": {},
   "outputs": [],
   "source": [
    "data[key[4]][0] #from 1.13 to now"
   ]
  },
  {
   "cell_type": "code",
   "execution_count": null,
   "metadata": {},
   "outputs": [],
   "source": [
    "d = data['areaTree'][0]"
   ]
  },
  {
   "cell_type": "code",
   "execution_count": null,
   "metadata": {},
   "outputs": [],
   "source": [
    "[item['name'] for item in d]"
   ]
  },
  {
   "cell_type": "code",
   "execution_count": null,
   "metadata": {},
   "outputs": [],
   "source": [
    "catch_distribution()"
   ]
  },
  {
   "cell_type": "code",
   "execution_count": null,
   "metadata": {},
   "outputs": [],
   "source": [
    "\n",
    "\n",
    "plt.rcParams['font.sans-serif'] = ['FangSong']  # 设置默认字体\n",
    "plt.rcParams['axes.unicode_minus'] = False  # 解决保存图像时'-'显示为方块的问题\n",
    "\n",
    "def catch_daily():\n",
    "    \"\"\"抓取每日确诊和死亡数据\"\"\"\n",
    "\n",
    "    #url = 'https://view.inews.qq.com/g2/getOnsInfo?name=wuwei_ww_cn_day_counts&callback=&_=%d'%int(time.time()*1000)\n",
    "    url ='https://view.inews.qq.com/g2/getOnsInfo?name=disease_h5&callback=&_=%d'%int(time.time()*1000)\n",
    "    data = json.loads(requests.get(url=url).json()['data'])\n",
    "    data.sort(key=lambda x:x['date'])\n",
    "\n",
    "    date_list = list() # 日期\n",
    "    confirm_list = list() # 确诊\n",
    "    suspect_list = list() # 疑似\n",
    "    dead_list = list() # 死亡\n",
    "    heal_list = list() # 治愈\n",
    "    for item in data:\n",
    "        month, day = item['date'].split('.')\n",
    "        date_list.append(datetime.strptime('2020-%s-%s'%(month, day), '%Y-%m-%d'))\n",
    "        confirm_list.append(int(item['confirm']))\n",
    "        suspect_list.append(int(item['suspect']))\n",
    "        dead_list.append(int(item['dead']))\n",
    "        heal_list.append(int(item['heal']))\n",
    "\n",
    "    return date_list, confirm_list, suspect_list, dead_list, heal_list\n",
    "\n",
    "def catch_distribution():\n",
    "    \"\"\"抓取行政区域确诊分布数据\"\"\"\n",
    "\n",
    "    data = {'西藏':0}\n",
    "    url = 'https://view.inews.qq.com/g2/getOnsInfo?name=disease_h5&callback=&_=%d'%int(time.time()*1000)\n",
    "    for item in json.loads(requests.get(url=url).json()['data']):\n",
    "        if item['area'] not in data:\n",
    "            data.update({item['area']:0})\n",
    "        data[item['area']] += int(item['confirm'])\n",
    "\n",
    "    return data\n",
    "\n",
    "def plot_daily():\n",
    "    \"\"\"绘制每日确诊和死亡数据\"\"\"\n",
    "\n",
    "    date_list, confirm_list, suspect_list, dead_list, heal_list = catch_daily() # 获取数据\n",
    "\n",
    "    plt.figure('2019-nCoV疫情统计图表', facecolor='#f4f4f4', figsize=(10, 8))\n",
    "    plt.title('2019-nCoV疫情曲线', fontsize=20)\n",
    "\n",
    "    plt.plot(date_list, confirm_list, label='确诊')\n",
    "    plt.plot(date_list, suspect_list, label='疑似')\n",
    "    plt.plot(date_list, dead_list, label='死亡')\n",
    "    plt.plot(date_list, heal_list, label='治愈')\n",
    "\n",
    "    plt.gca().xaxis.set_major_formatter(mdates.DateFormatter('%m-%d')) # 格式化时间轴标注\n",
    "    plt.gcf().autofmt_xdate() # 优化标注（自动倾斜）\n",
    "    plt.grid(linestyle=':') # 显示网格\n",
    "    plt.legend(loc='best') # 显示图例\n",
    "    plt.savefig('2019-nCoV疫情曲线.png') # 保存为文件\n",
    "    #plt.show()\n",
    "\n",
    "def plot_distribution():\n",
    "    \"\"\"绘制行政区域确诊分布数据\"\"\"\n",
    "\n",
    "    data = catch_distribution()\n",
    "\n",
    "    font = FontProperties(fname='res/simsun.ttf', size=14)\n",
    "    lat_min = 0\n",
    "    lat_max = 60\n",
    "    lon_min = 70\n",
    "    lon_max = 140\n",
    "\n",
    "    handles = [\n",
    "            matplotlib.patches.Patch(color='#ffaa85', alpha=1, linewidth=0),\n",
    "            matplotlib.patches.Patch(color='#ff7b69', alpha=1, linewidth=0),\n",
    "            matplotlib.patches.Patch(color='#bf2121', alpha=1, linewidth=0),\n",
    "            matplotlib.patches.Patch(color='#7f1818', alpha=1, linewidth=0),\n",
    "]\n",
    "    labels = [ '1-9人', '10-99人', '100-999人', '>1000人']\n",
    "\n",
    "    fig = matplotlib.figure.Figure()\n",
    "    fig.set_size_inches(10, 8) # 设置绘图板尺寸\n",
    "    axes = fig.add_axes((0.1, 0.12, 0.8, 0.8)) # rect = l,b,w,h\n",
    "    m = Basemap(llcrnrlon=lon_min, urcrnrlon=lon_max, llcrnrlat=lat_min, urcrnrlat=lat_max, resolution='l', ax=axes)\n",
    "    m.readshapefile('res/china-shapefiles-master/china', 'province', drawbounds=True)\n",
    "    m.readshapefile('res/china-shapefiles-master/china_nine_dotted_line', 'section', drawbounds=True)\n",
    "    m.drawcoastlines(color='black') # 洲际线\n",
    "    m.drawcountries(color='black')  # 国界线\n",
    "    m.drawparallels(np.arange(lat_min,lat_max,10), labels=[1,0,0,0]) #画经度线\n",
    "    m.drawmeridians(np.arange(lon_min,lon_max,10), labels=[0,0,0,1]) #画纬度线\n",
    "\n",
    "    for info, shape in zip(m.province_info, m.province):\n",
    "        pname = info['OWNER'].strip('\\x00')\n",
    "        fcname = info['FCNAME'].strip('\\x00')\n",
    "        if pname != fcname: # 不绘制海岛\n",
    "            continue\n",
    "\n",
    "        for key in data.keys():\n",
    "            if key in pname:\n",
    "                if data[key] == 0:\n",
    "                    color = '#f0f0f0'\n",
    "                elif data[key] < 10:\n",
    "                    color = '#ffaa85'\n",
    "                elif data[key] <100:\n",
    "                    color = '#ff7b69'\n",
    "                elif  data[key] < 1000:\n",
    "                    color = '#bf2121'\n",
    "                else:\n",
    "                    color = '#7f1818'\n",
    "                break\n",
    "\n",
    "        poly = Polygon(shape, facecolor=color, edgecolor=color)\n",
    "        axes.add_patch(poly)\n",
    "\n",
    "    axes.legend(handles, labels, bbox_to_anchor=(0.5, -0.11), loc='lower center', ncol=4, prop=font)\n",
    "    axes.set_title(\"2019-nCoV疫情地图\", fontproperties=font)\n",
    "    FigureCanvasAgg(fig)\n",
    "    fig.savefig('2019-nCoV疫情地图.png')\n",
    "\n",
    "if __name__ == '__main__':\n",
    "    plot_daily()\n",
    "    plot_distribution()"
   ]
  },
  {
   "cell_type": "code",
   "execution_count": null,
   "metadata": {},
   "outputs": [],
   "source": [
    "!conda install -c scitools cartopy"
   ]
  },
  {
   "cell_type": "code",
   "execution_count": null,
   "metadata": {},
   "outputs": [],
   "source": [
    "import cartopy.crs as ccrs\n",
    "import matplotlib.pyplot as plt\n",
    "\n",
    "f = plt.figure(figsize=(16,9))\n",
    "ax = plt.axes(projection=ccrs.Robinson())\n",
    "ax.stock_img()\n",
    "\n",
    "plt.show()\n",
    "plt.savefig(\"1.png\")"
   ]
  },
  {
   "cell_type": "code",
   "execution_count": null,
   "metadata": {},
   "outputs": [],
   "source": []
  }
 ]
}